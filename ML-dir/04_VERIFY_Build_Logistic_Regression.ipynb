{
  "nbformat": 4,
  "nbformat_minor": 0,
  "metadata": {
    "colab": {
      "name": "04-VERIFY-Build_Logistic_Regression",
      "provenance": [],
      "authorship_tag": "ABX9TyNb6ikxvWIoLLFRwONlNt6Q",
      "include_colab_link": true
    },
    "kernelspec": {
      "name": "python3",
      "display_name": "Python 3"
    },
    "language_info": {
      "name": "python"
    }
  },
  "cells": [
    {
      "cell_type": "markdown",
      "metadata": {
        "id": "view-in-github",
        "colab_type": "text"
      },
      "source": [
        "<a href=\"https://colab.research.google.com/github/B21-CAP0133/verify-android-app/blob/ML/ML-dir/04_VERIFY_Build_Logistic_Regression.ipynb\" target=\"_parent\"><img src=\"https://colab.research.google.com/assets/colab-badge.svg\" alt=\"Open In Colab\"/></a>"
      ]
    },
    {
      "cell_type": "code",
      "metadata": {
        "id": "9_Q9gElff5hr"
      },
      "source": [
        "import pandas as pd\n",
        "from sklearn.linear_model import LogisticRegression\n",
        "from sklearn.model_selection import cross_val_score, StratifiedKFold, train_test_split\n",
        "from sklearn.feature_extraction.text import TfidfVectorizer, CountVectorizer, TfidfTransformer\n",
        "from matplotlib import pyplot as plt\n",
        "import seaborn as sns\n",
        "import pickle\n",
        "import numpy as np"
      ],
      "execution_count": null,
      "outputs": []
    },
    {
      "cell_type": "code",
      "metadata": {
        "colab": {
          "base_uri": "https://localhost:8080/",
          "height": 206
        },
        "id": "7v-wiUGQg1h1",
        "outputId": "3d6eb3db-8f52-4577-e7bb-4630429ddbbd"
      },
      "source": [
        "df = pd.read_csv('verify_dataset_clean.csv')\n",
        "df.sample(5)"
      ],
      "execution_count": null,
      "outputs": [
        {
          "output_type": "execute_result",
          "data": {
            "text/html": [
              "<div>\n",
              "<style scoped>\n",
              "    .dataframe tbody tr th:only-of-type {\n",
              "        vertical-align: middle;\n",
              "    }\n",
              "\n",
              "    .dataframe tbody tr th {\n",
              "        vertical-align: top;\n",
              "    }\n",
              "\n",
              "    .dataframe thead th {\n",
              "        text-align: right;\n",
              "    }\n",
              "</style>\n",
              "<table border=\"1\" class=\"dataframe\">\n",
              "  <thead>\n",
              "    <tr style=\"text-align: right;\">\n",
              "      <th></th>\n",
              "      <th>Judul</th>\n",
              "      <th>Label</th>\n",
              "    </tr>\n",
              "  </thead>\n",
              "  <tbody>\n",
              "    <tr>\n",
              "      <th>1252</th>\n",
              "      <td>cocoklogi pki 1965 pki 2017</td>\n",
              "      <td>0</td>\n",
              "    </tr>\n",
              "    <tr>\n",
              "      <th>1449</th>\n",
              "      <td>arseto pariadji serah diri polisi</td>\n",
              "      <td>0</td>\n",
              "    </tr>\n",
              "    <tr>\n",
              "      <th>939</th>\n",
              "      <td>syiah indonesia</td>\n",
              "      <td>0</td>\n",
              "    </tr>\n",
              "    <tr>\n",
              "      <th>1514</th>\n",
              "      <td>nama meikarta ambil tragedi mei jakarta 98</td>\n",
              "      <td>0</td>\n",
              "    </tr>\n",
              "    <tr>\n",
              "      <th>137</th>\n",
              "      <td>jokowi sdh kunjung christchurch</td>\n",
              "      <td>1</td>\n",
              "    </tr>\n",
              "  </tbody>\n",
              "</table>\n",
              "</div>"
            ],
            "text/plain": [
              "                                           Judul  Label\n",
              "1252                 cocoklogi pki 1965 pki 2017      0\n",
              "1449           arseto pariadji serah diri polisi      0\n",
              "939                              syiah indonesia      0\n",
              "1514  nama meikarta ambil tragedi mei jakarta 98      0\n",
              "137              jokowi sdh kunjung christchurch      1"
            ]
          },
          "metadata": {
            "tags": []
          },
          "execution_count": 2
        }
      ]
    },
    {
      "cell_type": "code",
      "metadata": {
        "id": "eao5esopg7X2"
      },
      "source": [
        "x_train_text, x_test_text, y_train, y_test = train_test_split(df['Judul'], df['Label'], test_size=0.1)"
      ],
      "execution_count": null,
      "outputs": []
    },
    {
      "cell_type": "code",
      "metadata": {
        "id": "jUeG_sLpg9V5"
      },
      "source": [
        "transformer = TfidfVectorizer(\n",
        "    ngram_range = (1, 2), \n",
        "    max_features = None,\n",
        "    max_df = 0.5,\n",
        "    use_idf = True,\n",
        "    norm = 'l2'\n",
        "    )"
      ],
      "execution_count": null,
      "outputs": []
    },
    {
      "cell_type": "code",
      "metadata": {
        "id": "reBYpBHHhTrl"
      },
      "source": [
        "x_train = transformer.fit_transform(x_train_text)\n",
        "x_test = transformer.fit_transform(x_test_text)"
      ],
      "execution_count": null,
      "outputs": []
    },
    {
      "cell_type": "code",
      "metadata": {
        "colab": {
          "base_uri": "https://localhost:8080/"
        },
        "id": "BmrItSPkhWD7",
        "outputId": "dd6a8e27-51cf-475d-e9cc-cfd6cdb20a7c"
      },
      "source": [
        "x_train_text.shape, x_test_text.shape"
      ],
      "execution_count": null,
      "outputs": [
        {
          "output_type": "execute_result",
          "data": {
            "text/plain": [
              "((2129,), (237,))"
            ]
          },
          "metadata": {
            "tags": []
          },
          "execution_count": 8
        }
      ]
    },
    {
      "cell_type": "code",
      "metadata": {
        "colab": {
          "base_uri": "https://localhost:8080/"
        },
        "id": "hTkFdiF0hXq0",
        "outputId": "2261856c-85e5-4e4d-b22a-53e7e773ff1d"
      },
      "source": [
        "len(y_train), len(y_test)"
      ],
      "execution_count": null,
      "outputs": [
        {
          "output_type": "execute_result",
          "data": {
            "text/plain": [
              "(2129, 237)"
            ]
          },
          "metadata": {
            "tags": []
          },
          "execution_count": 9
        }
      ]
    },
    {
      "cell_type": "code",
      "metadata": {
        "id": "D8vPJSE1hanD"
      },
      "source": [
        "verify_logreg = LogisticRegression(\n",
        "    C = 774.2636826811278, \n",
        "    solver='saga', \n",
        "    penalty = 'l1',\n",
        "    max_iter = 5000\n",
        "    )"
      ],
      "execution_count": null,
      "outputs": []
    },
    {
      "cell_type": "code",
      "metadata": {
        "id": "YwFj3HJUhktX"
      },
      "source": [
        "skf = StratifiedKFold(\n",
        "    n_splits=10,\n",
        "    shuffle=True,\n",
        "    random_state=17\n",
        "    )"
      ],
      "execution_count": null,
      "outputs": []
    },
    {
      "cell_type": "code",
      "metadata": {
        "id": "ygrRorSghozI"
      },
      "source": [
        "cv_results = cross_val_score(\n",
        "    verify_logreg, \n",
        "    x_train, \n",
        "    y_train, \n",
        "    cv=skf, \n",
        "    scoring='accuracy'\n",
        "    )"
      ],
      "execution_count": null,
      "outputs": []
    },
    {
      "cell_type": "code",
      "metadata": {
        "colab": {
          "base_uri": "https://localhost:8080/"
        },
        "id": "omjietv-iTAu",
        "outputId": "8d31be03-4e3d-4899-a4ec-8bf4ceb4c1fc"
      },
      "source": [
        "cv_results, cv_results.mean()"
      ],
      "execution_count": null,
      "outputs": [
        {
          "output_type": "execute_result",
          "data": {
            "text/plain": [
              "(array([0.77464789, 0.8028169 , 0.77464789, 0.80751174, 0.8028169 ,\n",
              "        0.75586854, 0.74647887, 0.79342723, 0.76525822, 0.81603774]),\n",
              " 0.7839511914252812)"
            ]
          },
          "metadata": {
            "tags": []
          },
          "execution_count": 14
        }
      ]
    },
    {
      "cell_type": "code",
      "metadata": {
        "colab": {
          "base_uri": "https://localhost:8080/"
        },
        "id": "866goAT9po5Y",
        "outputId": "a8842236-b631-4e77-8654-bdb44a9b56fb"
      },
      "source": [
        "verify_logreg.fit(x_train, y_train)"
      ],
      "execution_count": null,
      "outputs": [
        {
          "output_type": "execute_result",
          "data": {
            "text/plain": [
              "LogisticRegression(C=774.2636826811278, class_weight=None, dual=False,\n",
              "                   fit_intercept=True, intercept_scaling=1, l1_ratio=None,\n",
              "                   max_iter=5000, multi_class='auto', n_jobs=None, penalty='l1',\n",
              "                   random_state=None, solver='saga', tol=0.0001, verbose=0,\n",
              "                   warm_start=False)"
            ]
          },
          "metadata": {
            "tags": []
          },
          "execution_count": 11
        }
      ]
    },
    {
      "cell_type": "code",
      "metadata": {
        "id": "iymlFwyTp36k"
      },
      "source": [
        "test_preds = verify_logreg.predict(x_test)"
      ],
      "execution_count": null,
      "outputs": []
    },
    {
      "cell_type": "code",
      "metadata": {
        "id": "O31XBIBArapZ"
      },
      "source": [
        "dfP = pd.DataFrame(x_test_text, columns=['Judul'])\n",
        "dfP['Predict'] = test_preds\n",
        "dfP['True'] = y_test"
      ],
      "execution_count": null,
      "outputs": []
    },
    {
      "cell_type": "code",
      "metadata": {
        "colab": {
          "base_uri": "https://localhost:8080/",
          "height": 206
        },
        "id": "QPSWmlFHrjav",
        "outputId": "22345771-24b0-4ce7-d3c1-4aab7184652b"
      },
      "source": [
        "dfP.head()"
      ],
      "execution_count": null,
      "outputs": [
        {
          "output_type": "execute_result",
          "data": {
            "text/html": [
              "<div>\n",
              "<style scoped>\n",
              "    .dataframe tbody tr th:only-of-type {\n",
              "        vertical-align: middle;\n",
              "    }\n",
              "\n",
              "    .dataframe tbody tr th {\n",
              "        vertical-align: top;\n",
              "    }\n",
              "\n",
              "    .dataframe thead th {\n",
              "        text-align: right;\n",
              "    }\n",
              "</style>\n",
              "<table border=\"1\" class=\"dataframe\">\n",
              "  <thead>\n",
              "    <tr style=\"text-align: right;\">\n",
              "      <th></th>\n",
              "      <th>Judul</th>\n",
              "      <th>Predict</th>\n",
              "      <th>True</th>\n",
              "    </tr>\n",
              "  </thead>\n",
              "  <tbody>\n",
              "    <tr>\n",
              "      <th>2038</th>\n",
              "      <td>gibran tantang rocky gerung debat buka tvone</td>\n",
              "      <td>1</td>\n",
              "      <td>1</td>\n",
              "    </tr>\n",
              "    <tr>\n",
              "      <th>911</th>\n",
              "      <td>kapolda anton charliyan tibatiba laku citra pa...</td>\n",
              "      <td>0</td>\n",
              "      <td>0</td>\n",
              "    </tr>\n",
              "    <tr>\n",
              "      <th>783</th>\n",
              "      <td>bpjs ketenagakerjaan edar sms beri hadiah dana...</td>\n",
              "      <td>1</td>\n",
              "      <td>0</td>\n",
              "    </tr>\n",
              "    <tr>\n",
              "      <th>1191</th>\n",
              "      <td>polisi tangkap rekayasa chat hoax kapolri kapo...</td>\n",
              "      <td>0</td>\n",
              "      <td>0</td>\n",
              "    </tr>\n",
              "    <tr>\n",
              "      <th>1901</th>\n",
              "      <td>terb0ngkar c1n pk beli semua tanah strategi in...</td>\n",
              "      <td>1</td>\n",
              "      <td>1</td>\n",
              "    </tr>\n",
              "  </tbody>\n",
              "</table>\n",
              "</div>"
            ],
            "text/plain": [
              "                                                  Judul  Predict  True\n",
              "2038       gibran tantang rocky gerung debat buka tvone        1     1\n",
              "911   kapolda anton charliyan tibatiba laku citra pa...        0     0\n",
              "783   bpjs ketenagakerjaan edar sms beri hadiah dana...        1     0\n",
              "1191  polisi tangkap rekayasa chat hoax kapolri kapo...        0     0\n",
              "1901  terb0ngkar c1n pk beli semua tanah strategi in...        1     1"
            ]
          },
          "metadata": {
            "tags": []
          },
          "execution_count": 33
        }
      ]
    },
    {
      "cell_type": "code",
      "metadata": {
        "colab": {
          "base_uri": "https://localhost:8080/",
          "height": 279
        },
        "id": "Jemkni66rk6x",
        "outputId": "900417a5-114e-4738-e0e9-30a3a2e5cc0a"
      },
      "source": [
        "confusion_matrix = pd.crosstab(dfP['True'], dfP['Predict'], rownames=['Actual'], colnames=['Predicted'])\n",
        "sns.heatmap(confusion_matrix, annot=True)\n",
        "plt.show()"
      ],
      "execution_count": null,
      "outputs": [
        {
          "output_type": "display_data",
          "data": {
            "image/png": "[encoded data removed]",
            "text/plain": [
              "<Figure size 432x288 with 2 Axes>"
            ]
          },
          "metadata": {
            "tags": [],
            "needs_background": "light"
          }
        }
      ]
    },
    {
      "cell_type": "code",
      "metadata": {
        "id": "uwi5TC3HsqKg"
      },
      "source": [
        "verify_logreg_model = 'verify_logreg_model.sav'\n",
        "pickle.dump(verify_logreg, open(verify_logreg_model, 'wb'))"
      ],
      "execution_count": null,
      "outputs": []
    },
    {
      "cell_type": "code",
      "metadata": {
        "id": "QhGGpbi9tHF6"
      },
      "source": [
        "predict_proba = verify_logreg.predict_proba(x_test)"
      ],
      "execution_count": null,
      "outputs": []
    },
    {
      "cell_type": "code",
      "metadata": {
        "id": "O1VCC61wxuTI"
      },
      "source": [
        "i = 0\n",
        "hoax_prob_long = []\n",
        "for hoax in predict_proba:\n",
        "  hoax_prob_long.append(predict_proba[i,1]*100)\n",
        "  i+=1\n",
        "\n",
        "hoax_prob = []\n",
        "for j in hoax_prob_long:\n",
        "  hoax_prob.append('{:.1f}'.format(j))"
      ],
      "execution_count": null,
      "outputs": []
    },
    {
      "cell_type": "code",
      "metadata": {
        "id": "E74fWwW-y-OT"
      },
      "source": [
        "dfP['Hoax Probaility'] = hoax_prob"
      ],
      "execution_count": null,
      "outputs": []
    },
    {
      "cell_type": "code",
      "metadata": {
        "colab": {
          "base_uri": "https://localhost:8080/",
          "height": 206
        },
        "id": "bY8X23zTz1G5",
        "outputId": "393f74fe-1ca4-4a05-cc2a-fa0ae20a9fe6"
      },
      "source": [
        "dfP.head()"
      ],
      "execution_count": null,
      "outputs": [
        {
          "output_type": "execute_result",
          "data": {
            "text/html": [
              "<div>\n",
              "<style scoped>\n",
              "    .dataframe tbody tr th:only-of-type {\n",
              "        vertical-align: middle;\n",
              "    }\n",
              "\n",
              "    .dataframe tbody tr th {\n",
              "        vertical-align: top;\n",
              "    }\n",
              "\n",
              "    .dataframe thead th {\n",
              "        text-align: right;\n",
              "    }\n",
              "</style>\n",
              "<table border=\"1\" class=\"dataframe\">\n",
              "  <thead>\n",
              "    <tr style=\"text-align: right;\">\n",
              "      <th></th>\n",
              "      <th>Judul</th>\n",
              "      <th>Predict</th>\n",
              "      <th>True</th>\n",
              "      <th>Hoax Probaility</th>\n",
              "    </tr>\n",
              "  </thead>\n",
              "  <tbody>\n",
              "    <tr>\n",
              "      <th>2038</th>\n",
              "      <td>gibran tantang rocky gerung debat buka tvone</td>\n",
              "      <td>1</td>\n",
              "      <td>1</td>\n",
              "      <td>69.9</td>\n",
              "    </tr>\n",
              "    <tr>\n",
              "      <th>911</th>\n",
              "      <td>kapolda anton charliyan tibatiba laku citra pa...</td>\n",
              "      <td>0</td>\n",
              "      <td>0</td>\n",
              "      <td>28.8</td>\n",
              "    </tr>\n",
              "    <tr>\n",
              "      <th>783</th>\n",
              "      <td>bpjs ketenagakerjaan edar sms beri hadiah dana...</td>\n",
              "      <td>1</td>\n",
              "      <td>0</td>\n",
              "      <td>86.5</td>\n",
              "    </tr>\n",
              "    <tr>\n",
              "      <th>1191</th>\n",
              "      <td>polisi tangkap rekayasa chat hoax kapolri kapo...</td>\n",
              "      <td>0</td>\n",
              "      <td>0</td>\n",
              "      <td>0.1</td>\n",
              "    </tr>\n",
              "    <tr>\n",
              "      <th>1901</th>\n",
              "      <td>terb0ngkar c1n pk beli semua tanah strategi in...</td>\n",
              "      <td>1</td>\n",
              "      <td>1</td>\n",
              "      <td>99.6</td>\n",
              "    </tr>\n",
              "  </tbody>\n",
              "</table>\n",
              "</div>"
            ],
            "text/plain": [
              "                                                  Judul  ...  Hoax Probaility\n",
              "2038       gibran tantang rocky gerung debat buka tvone  ...             69.9\n",
              "911   kapolda anton charliyan tibatiba laku citra pa...  ...             28.8\n",
              "783   bpjs ketenagakerjaan edar sms beri hadiah dana...  ...             86.5\n",
              "1191  polisi tangkap rekayasa chat hoax kapolri kapo...  ...              0.1\n",
              "1901  terb0ngkar c1n pk beli semua tanah strategi in...  ...             99.6\n",
              "\n",
              "[5 rows x 4 columns]"
            ]
          },
          "metadata": {
            "tags": []
          },
          "execution_count": 63
        }
      ]
    },
    {
      "cell_type": "code",
      "metadata": {
        "id": "PIb9TQVlz4Nl"
      },
      "source": [
        "dfP.loc[dfP['True'] == 1, \n",
        "       'True'] = 'HOAX'\n",
        "dfP.loc[dfP['True'] == 0, \n",
        "       'True'] = 'BUKAN HOAX'"
      ],
      "execution_count": null,
      "outputs": []
    },
    {
      "cell_type": "code",
      "metadata": {
        "id": "GMEwalPf1Fm8"
      },
      "source": [
        "dfP_final = dfP.drop(columns=['Predict'])"
      ],
      "execution_count": null,
      "outputs": []
    },
    {
      "cell_type": "code",
      "metadata": {
        "colab": {
          "base_uri": "https://localhost:8080/",
          "height": 206
        },
        "id": "XLA92v0s1cOR",
        "outputId": "4d40250c-48e7-4894-b9a4-52a93bb1d56a"
      },
      "source": [
        "dfP_final.columns = ['Judul', 'Actual', 'Hoax Probability']\n",
        "\n",
        "dfP_final = dfP_final[['Judul', 'Hoax Probability', 'Actual']]\n",
        "\n",
        "dfP_final.head()"
      ],
      "execution_count": null,
      "outputs": [
        {
          "output_type": "execute_result",
          "data": {
            "text/html": [
              "<div>\n",
              "<style scoped>\n",
              "    .dataframe tbody tr th:only-of-type {\n",
              "        vertical-align: middle;\n",
              "    }\n",
              "\n",
              "    .dataframe tbody tr th {\n",
              "        vertical-align: top;\n",
              "    }\n",
              "\n",
              "    .dataframe thead th {\n",
              "        text-align: right;\n",
              "    }\n",
              "</style>\n",
              "<table border=\"1\" class=\"dataframe\">\n",
              "  <thead>\n",
              "    <tr style=\"text-align: right;\">\n",
              "      <th></th>\n",
              "      <th>Judul</th>\n",
              "      <th>Hoax Probability</th>\n",
              "      <th>Actual</th>\n",
              "    </tr>\n",
              "  </thead>\n",
              "  <tbody>\n",
              "    <tr>\n",
              "      <th>2038</th>\n",
              "      <td>gibran tantang rocky gerung debat buka tvone</td>\n",
              "      <td>69.9</td>\n",
              "      <td>HOAX</td>\n",
              "    </tr>\n",
              "    <tr>\n",
              "      <th>911</th>\n",
              "      <td>kapolda anton charliyan tibatiba laku citra pa...</td>\n",
              "      <td>28.8</td>\n",
              "      <td>BUKAN HOAX</td>\n",
              "    </tr>\n",
              "    <tr>\n",
              "      <th>783</th>\n",
              "      <td>bpjs ketenagakerjaan edar sms beri hadiah dana...</td>\n",
              "      <td>86.5</td>\n",
              "      <td>BUKAN HOAX</td>\n",
              "    </tr>\n",
              "    <tr>\n",
              "      <th>1191</th>\n",
              "      <td>polisi tangkap rekayasa chat hoax kapolri kapo...</td>\n",
              "      <td>0.1</td>\n",
              "      <td>BUKAN HOAX</td>\n",
              "    </tr>\n",
              "    <tr>\n",
              "      <th>1901</th>\n",
              "      <td>terb0ngkar c1n pk beli semua tanah strategi in...</td>\n",
              "      <td>99.6</td>\n",
              "      <td>HOAX</td>\n",
              "    </tr>\n",
              "  </tbody>\n",
              "</table>\n",
              "</div>"
            ],
            "text/plain": [
              "                                                  Judul  ...      Actual\n",
              "2038       gibran tantang rocky gerung debat buka tvone  ...        HOAX\n",
              "911   kapolda anton charliyan tibatiba laku citra pa...  ...  BUKAN HOAX\n",
              "783   bpjs ketenagakerjaan edar sms beri hadiah dana...  ...  BUKAN HOAX\n",
              "1191  polisi tangkap rekayasa chat hoax kapolri kapo...  ...  BUKAN HOAX\n",
              "1901  terb0ngkar c1n pk beli semua tanah strategi in...  ...        HOAX\n",
              "\n",
              "[5 rows x 3 columns]"
            ]
          },
          "metadata": {
            "tags": []
          },
          "execution_count": 75
        }
      ]
    },
    {
      "cell_type": "code",
      "metadata": {
        "id": "MKl9V28q2P1Q"
      },
      "source": [
        "dfP_final.to_csv('hasil_verify_logreg_model.csv', index=False)"
      ],
      "execution_count": null,
      "outputs": []
    }
  ]
}