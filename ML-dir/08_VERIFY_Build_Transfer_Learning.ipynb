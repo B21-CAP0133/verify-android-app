{
  "nbformat": 4,
  "nbformat_minor": 0,
  "metadata": {
    "colab": {
      "name": "08-VERIFY_Build_Transfer_Learning",
      "provenance": [],
      "authorship_tag": "ABX9TyOugMcu0SWbbLnFGkaJWrk6",
      "include_colab_link": true
    },
    "kernelspec": {
      "name": "python3",
      "display_name": "Python 3"
    },
    "language_info": {
      "name": "python"
    }
  },
  "cells": [
    {
      "cell_type": "markdown",
      "metadata": {
        "id": "view-in-github",
        "colab_type": "text"
      },
      "source": [
        "<a href=\"https://colab.research.google.com/github/B21-CAP0133/verify-android-app/blob/master/ML-dir/08_VERIFY_Build_Transfer_Learning.ipynb\" target=\"_parent\"><img src=\"https://colab.research.google.com/assets/colab-badge.svg\" alt=\"Open In Colab\"/></a>"
      ]
    },
    {
      "cell_type": "code",
      "metadata": {
        "id": "1rRJXyTFzRst"
      },
      "source": [
        "import tensorflow as tf\n",
        "import pandas as pd\n",
        "from sklearn.model_selection import train_test_split\n",
        "from tensorflow.keras.optimizers import Adam\n",
        "\n",
        "import tensorflow_hub as hub"
      ],
      "execution_count": null,
      "outputs": []
    },
    {
      "cell_type": "code",
      "metadata": {
        "colab": {
          "base_uri": "https://localhost:8080/",
          "height": 206
        },
        "id": "jhdnc59dzZS9",
        "outputId": "f00f04bf-347f-43ca-aefb-11132dbef795"
      },
      "source": [
        "df = pd.read_csv('verify_dataset_clean.csv')\n",
        "df.sample(5)"
      ],
      "execution_count": null,
      "outputs": [
        {
          "output_type": "execute_result",
          "data": {
            "text/html": [
              "<div>\n",
              "<style scoped>\n",
              "    .dataframe tbody tr th:only-of-type {\n",
              "        vertical-align: middle;\n",
              "    }\n",
              "\n",
              "    .dataframe tbody tr th {\n",
              "        vertical-align: top;\n",
              "    }\n",
              "\n",
              "    .dataframe thead th {\n",
              "        text-align: right;\n",
              "    }\n",
              "</style>\n",
              "<table border=\"1\" class=\"dataframe\">\n",
              "  <thead>\n",
              "    <tr style=\"text-align: right;\">\n",
              "      <th></th>\n",
              "      <th>Judul</th>\n",
              "      <th>Label</th>\n",
              "    </tr>\n",
              "  </thead>\n",
              "  <tbody>\n",
              "    <tr>\n",
              "      <th>5648</th>\n",
              "      <td>mantan latih ungkap cara kalah liverpool</td>\n",
              "      <td>0</td>\n",
              "    </tr>\n",
              "    <tr>\n",
              "      <th>7262</th>\n",
              "      <td>foto seni instalasi atas bukit sambut natal 2020</td>\n",
              "      <td>0</td>\n",
              "    </tr>\n",
              "    <tr>\n",
              "      <th>6493</th>\n",
              "      <td>banjir beban warga kala corona pm jepang prior...</td>\n",
              "      <td>0</td>\n",
              "    </tr>\n",
              "    <tr>\n",
              "      <th>6517</th>\n",
              "      <td>kapolda sumut tebar 75 ribu bibit ikan tahan p...</td>\n",
              "      <td>0</td>\n",
              "    </tr>\n",
              "    <tr>\n",
              "      <th>1018</th>\n",
              "      <td>fasilitas ruang tahan ahok bak bintang lima</td>\n",
              "      <td>1</td>\n",
              "    </tr>\n",
              "  </tbody>\n",
              "</table>\n",
              "</div>"
            ],
            "text/plain": [
              "                                                  Judul  Label\n",
              "5648           mantan latih ungkap cara kalah liverpool      0\n",
              "7262   foto seni instalasi atas bukit sambut natal 2020      0\n",
              "6493  banjir beban warga kala corona pm jepang prior...      0\n",
              "6517  kapolda sumut tebar 75 ribu bibit ikan tahan p...      0\n",
              "1018        fasilitas ruang tahan ahok bak bintang lima      1"
            ]
          },
          "metadata": {
            "tags": []
          },
          "execution_count": 4
        }
      ]
    },
    {
      "cell_type": "code",
      "metadata": {
        "id": "TYvEIVl6zbF5"
      },
      "source": [
        "x_train_text, x_test_text, y_train, y_test = train_test_split(df['Judul'], df['Label'], test_size=0.1)"
      ],
      "execution_count": null,
      "outputs": []
    },
    {
      "cell_type": "code",
      "metadata": {
        "id": "OIAR6uDOzbq-"
      },
      "source": [
        "hub_layer = hub.KerasLayer(\"https://tfhub.dev/google/nnlm-id-dim128/2\",\n",
        "                           input_shape=[], dtype=tf.string, trainable=True)"
      ],
      "execution_count": null,
      "outputs": []
    },
    {
      "cell_type": "code",
      "metadata": {
        "colab": {
          "base_uri": "https://localhost:8080/"
        },
        "id": "jjzQTUwHzdsl",
        "outputId": "61b6fd72-0fd0-4844-bc4f-34bda1b09dfc"
      },
      "source": [
        "model = tf.keras.Sequential()\n",
        "model.add(hub_layer)\n",
        "model.add(tf.keras.layers.Dense(1, activation='sigmoid'))\n",
        "\n",
        "model.summary()"
      ],
      "execution_count": null,
      "outputs": [
        {
          "output_type": "stream",
          "text": [
            "Model: \"sequential\"\n",
            "_________________________________________________________________\n",
            "Layer (type)                 Output Shape              Param #   \n",
            "=================================================================\n",
            "keras_layer (KerasLayer)     (None, 128)               112461824 \n",
            "_________________________________________________________________\n",
            "dense (Dense)                (None, 1)                 129       \n",
            "=================================================================\n",
            "Total params: 112,461,953\n",
            "Trainable params: 112,461,953\n",
            "Non-trainable params: 0\n",
            "_________________________________________________________________\n"
          ],
          "name": "stdout"
        }
      ]
    },
    {
      "cell_type": "code",
      "metadata": {
        "id": "SKQyuGPczhP6"
      },
      "source": [
        "opt = Adam()\n",
        "model.compile(optimizer = opt,\n",
        "              loss = 'binary_crossentropy',\n",
        "              metrics = ['accuracy']\n",
        "              )"
      ],
      "execution_count": null,
      "outputs": []
    },
    {
      "cell_type": "code",
      "metadata": {
        "colab": {
          "base_uri": "https://localhost:8080/"
        },
        "id": "MhauuoVbzh2N",
        "outputId": "1541e9b8-5731-43f0-f5f2-d324b84b8c97"
      },
      "source": [
        "history = model.fit(x_train_text, y_train,\n",
        "                    validation_data = (x_test_text, y_test),\n",
        "                    epochs = 5,\n",
        "                    shuffle = True\n",
        "                    )"
      ],
      "execution_count": null,
      "outputs": [
        {
          "output_type": "stream",
          "text": [
            "Epoch 1/5\n",
            "205/205 [==============================] - 227s 1s/step - loss: 0.0273 - accuracy: 0.9951 - val_loss: 0.7687 - val_accuracy: 0.7995\n",
            "Epoch 2/5\n",
            "205/205 [==============================] - 237s 1s/step - loss: 0.0214 - accuracy: 0.9960 - val_loss: 0.8104 - val_accuracy: 0.8036\n",
            "Epoch 3/5\n",
            "205/205 [==============================] - 227s 1s/step - loss: 0.0166 - accuracy: 0.9979 - val_loss: 0.8539 - val_accuracy: 0.8049\n",
            "Epoch 4/5\n",
            "205/205 [==============================] - 227s 1s/step - loss: 0.0138 - accuracy: 0.9976 - val_loss: 0.8964 - val_accuracy: 0.8022\n",
            "Epoch 5/5\n",
            "205/205 [==============================] - 227s 1s/step - loss: 0.0114 - accuracy: 0.9985 - val_loss: 0.9363 - val_accuracy: 0.8036\n"
          ],
          "name": "stdout"
        }
      ]
    },
    {
      "cell_type": "code",
      "metadata": {
        "id": "qCIewh5jhviB"
      },
      "source": [
        "x = 'Jokowi berniat mengundurkan diri dari jabatan presiden bulan depan'\n",
        "prediksi_hoax = model.predict([x])\n",
        "prediksi_hoax *= 100\n",
        "prediksi_hoax"
      ],
      "execution_count": null,
      "outputs": []
    }
  ]
}