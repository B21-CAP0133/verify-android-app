{
  "nbformat": 4,
  "nbformat_minor": 0,
  "metadata": {
    "colab": {
      "name": "08-VERIFY_Build_Transfer_Learning",
      "provenance": [],
      "authorship_tag": "ABX9TyPa9FYNKzcqMQG50iDX/WLl",
      "include_colab_link": true
    },
    "kernelspec": {
      "name": "python3",
      "display_name": "Python 3"
    },
    "language_info": {
      "name": "python"
    }
  },
  "cells": [
    {
      "cell_type": "markdown",
      "metadata": {
        "id": "view-in-github",
        "colab_type": "text"
      },
      "source": [
        "<a href=\"https://colab.research.google.com/github/B21-CAP0133/verify-android-app/blob/master/ML-dir/08_VERIFY_Build_Transfer_Learning.ipynb\" target=\"_parent\"><img src=\"https://colab.research.google.com/assets/colab-badge.svg\" alt=\"Open In Colab\"/></a>"
      ]
    },
    {
      "cell_type": "code",
      "metadata": {
        "id": "1rRJXyTFzRst"
      },
      "source": [
        "import tensorflow as tf\n",
        "import pandas as pd\n",
        "from sklearn.model_selection import train_test_split\n",
        "from tensorflow.keras.optimizers import Adam\n",
        "\n",
        "import tensorflow_hub as hub"
      ],
      "execution_count": 1,
      "outputs": []
    },
    {
      "cell_type": "code",
      "metadata": {
        "colab": {
          "base_uri": "https://localhost:8080/",
          "height": 206
        },
        "id": "jhdnc59dzZS9",
        "outputId": "9fc5781a-253f-49a5-cf73-36f2ae1a65cc"
      },
      "source": [
        "df = pd.read_csv('verify_dataset_clean.csv')\n",
        "df.sample(5)"
      ],
      "execution_count": 2,
      "outputs": [
        {
          "output_type": "execute_result",
          "data": {
            "text/html": [
              "<div>\n",
              "<style scoped>\n",
              "    .dataframe tbody tr th:only-of-type {\n",
              "        vertical-align: middle;\n",
              "    }\n",
              "\n",
              "    .dataframe tbody tr th {\n",
              "        vertical-align: top;\n",
              "    }\n",
              "\n",
              "    .dataframe thead th {\n",
              "        text-align: right;\n",
              "    }\n",
              "</style>\n",
              "<table border=\"1\" class=\"dataframe\">\n",
              "  <thead>\n",
              "    <tr style=\"text-align: right;\">\n",
              "      <th></th>\n",
              "      <th>Judul</th>\n",
              "      <th>Label</th>\n",
              "    </tr>\n",
              "  </thead>\n",
              "  <tbody>\n",
              "    <tr>\n",
              "      <th>2990</th>\n",
              "      <td>tangkap layar ponsel ahok retas</td>\n",
              "      <td>1</td>\n",
              "    </tr>\n",
              "    <tr>\n",
              "      <th>3649</th>\n",
              "      <td>foto kubur jenazah ibu kandung presiden joko w...</td>\n",
              "      <td>1</td>\n",
              "    </tr>\n",
              "    <tr>\n",
              "      <th>5540</th>\n",
              "      <td>eks petinggi victorias secret duga leceh bella...</td>\n",
              "      <td>0</td>\n",
              "    </tr>\n",
              "    <tr>\n",
              "      <th>1984</th>\n",
              "      <td>video pasien kabur tangkap security</td>\n",
              "      <td>1</td>\n",
              "    </tr>\n",
              "    <tr>\n",
              "      <th>4468</th>\n",
              "      <td>telkomsel sebut denny siregar monyet</td>\n",
              "      <td>1</td>\n",
              "    </tr>\n",
              "  </tbody>\n",
              "</table>\n",
              "</div>"
            ],
            "text/plain": [
              "                                                  Judul  Label\n",
              "2990                    tangkap layar ponsel ahok retas      1\n",
              "3649  foto kubur jenazah ibu kandung presiden joko w...      1\n",
              "5540  eks petinggi victorias secret duga leceh bella...      0\n",
              "1984                video pasien kabur tangkap security      1\n",
              "4468               telkomsel sebut denny siregar monyet      1"
            ]
          },
          "metadata": {
            "tags": []
          },
          "execution_count": 2
        }
      ]
    },
    {
      "cell_type": "code",
      "metadata": {
        "id": "TYvEIVl6zbF5"
      },
      "source": [
        "x_train_text, x_test_text, y_train, y_test = train_test_split(df['Judul'], df['Label'], test_size=0.1)"
      ],
      "execution_count": 3,
      "outputs": []
    },
    {
      "cell_type": "code",
      "metadata": {
        "id": "OIAR6uDOzbq-"
      },
      "source": [
        "hub_layer = hub.KerasLayer(\"https://tfhub.dev/google/nnlm-id-dim128/2\",\n",
        "                           input_shape=[], dtype=tf.string, trainable=True)"
      ],
      "execution_count": 4,
      "outputs": []
    },
    {
      "cell_type": "code",
      "metadata": {
        "colab": {
          "base_uri": "https://localhost:8080/"
        },
        "id": "jjzQTUwHzdsl",
        "outputId": "f9a660fc-7f53-4cf1-c6e4-08fbb680c267"
      },
      "source": [
        "model = tf.keras.Sequential()\n",
        "model.add(hub_layer)\n",
        "model.add(tf.keras.layers.Dense(1, activation='sigmoid'))\n",
        "\n",
        "model.summary()"
      ],
      "execution_count": 5,
      "outputs": [
        {
          "output_type": "stream",
          "text": [
            "Model: \"sequential\"\n",
            "_________________________________________________________________\n",
            "Layer (type)                 Output Shape              Param #   \n",
            "=================================================================\n",
            "keras_layer (KerasLayer)     (None, 128)               112461824 \n",
            "_________________________________________________________________\n",
            "dense (Dense)                (None, 1)                 129       \n",
            "=================================================================\n",
            "Total params: 112,461,953\n",
            "Trainable params: 112,461,953\n",
            "Non-trainable params: 0\n",
            "_________________________________________________________________\n"
          ],
          "name": "stdout"
        }
      ]
    },
    {
      "cell_type": "code",
      "metadata": {
        "id": "SKQyuGPczhP6"
      },
      "source": [
        "opt = Adam()\n",
        "model.compile(optimizer = opt,\n",
        "              loss = 'binary_crossentropy',\n",
        "              metrics = ['accuracy']\n",
        "              )"
      ],
      "execution_count": 6,
      "outputs": []
    },
    {
      "cell_type": "code",
      "metadata": {
        "colab": {
          "base_uri": "https://localhost:8080/"
        },
        "id": "MhauuoVbzh2N",
        "outputId": "581604b7-34f2-4f3d-fb7d-7871f3e38fd3"
      },
      "source": [
        "history = model.fit(x_train_text, y_train,\n",
        "                    validation_data = (x_test_text, y_test),\n",
        "                    epochs = 10,\n",
        "                    shuffle = True\n",
        "                    )"
      ],
      "execution_count": 7,
      "outputs": [
        {
          "output_type": "stream",
          "text": [
            "Epoch 1/10\n",
            "205/205 [==============================] - 223s 1s/step - loss: 0.6273 - accuracy: 0.6860 - val_loss: 0.4953 - val_accuracy: 0.7898\n",
            "Epoch 2/10\n",
            "205/205 [==============================] - 221s 1s/step - loss: 0.3818 - accuracy: 0.8662 - val_loss: 0.4378 - val_accuracy: 0.8118\n",
            "Epoch 3/10\n",
            "205/205 [==============================] - 221s 1s/step - loss: 0.2410 - accuracy: 0.9246 - val_loss: 0.4540 - val_accuracy: 0.8091\n",
            "Epoch 4/10\n",
            "205/205 [==============================] - 221s 1s/step - loss: 0.1684 - accuracy: 0.9487 - val_loss: 0.4841 - val_accuracy: 0.7981\n",
            "Epoch 5/10\n",
            "205/205 [==============================] - 220s 1s/step - loss: 0.1113 - accuracy: 0.9738 - val_loss: 0.5337 - val_accuracy: 0.7940\n",
            "Epoch 6/10\n",
            "205/205 [==============================] - 220s 1s/step - loss: 0.0812 - accuracy: 0.9832 - val_loss: 0.5885 - val_accuracy: 0.7953\n",
            "Epoch 7/10\n",
            "205/205 [==============================] - 220s 1s/step - loss: 0.0611 - accuracy: 0.9900 - val_loss: 0.6414 - val_accuracy: 0.7912\n",
            "Epoch 8/10\n",
            "205/205 [==============================] - 221s 1s/step - loss: 0.0458 - accuracy: 0.9915 - val_loss: 0.6888 - val_accuracy: 0.7926\n",
            "Epoch 9/10\n",
            "205/205 [==============================] - 221s 1s/step - loss: 0.0316 - accuracy: 0.9964 - val_loss: 0.7494 - val_accuracy: 0.7967\n",
            "Epoch 10/10\n",
            "205/205 [==============================] - 221s 1s/step - loss: 0.0246 - accuracy: 0.9965 - val_loss: 0.7915 - val_accuracy: 0.7967\n"
          ],
          "name": "stdout"
        }
      ]
    }
  ]
}