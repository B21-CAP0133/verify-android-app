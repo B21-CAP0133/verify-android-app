{
  "nbformat": 4,
  "nbformat_minor": 0,
  "metadata": {
    "colab": {
      "name": "02-VERIFY-Data_Cleansing",
      "provenance": [],
      "authorship_tag": "ABX9TyNGHE/r2m9JV4LW9IXL03EV",
      "include_colab_link": true
    },
    "kernelspec": {
      "name": "python3",
      "display_name": "Python 3"
    },
    "language_info": {
      "name": "python"
    }
  },
  "cells": [
    {
      "cell_type": "markdown",
      "metadata": {
        "id": "view-in-github",
        "colab_type": "text"
      },
      "source": [
        "<a href=\"https://colab.research.google.com/github/B21-CAP0133/verify-android-app/blob/ML/ML-dir/02_VERIFY_Data_Cleansing.ipynb\" target=\"_parent\"><img src=\"https://colab.research.google.com/assets/colab-badge.svg\" alt=\"Open In Colab\"/></a>"
      ]
    },
    {
      "cell_type": "markdown",
      "metadata": {
        "id": "7fFKVGH2qPyp"
      },
      "source": [
        "# Hari 4"
      ]
    },
    {
      "cell_type": "markdown",
      "metadata": {
        "id": "V0rteMc8qUpt"
      },
      "source": [
        "Melakukan data cleansing terhadap verify_dataset yang terdiri atas:\n",
        "\n",
        "1. One Hot Encoding.\n",
        "2. Case folding.\n",
        "3. Menghilangkan kata-kata di dalam kurung.\n",
        "4. Menghilangkan _punctuation_.\n",
        "5. Menghilangkan stopwords.\n",
        "6. Melakukan _stemming_."
      ]
    },
    {
      "cell_type": "markdown",
      "metadata": {
        "id": "e1LLY1f2rgDd"
      },
      "source": [
        "Melakukan import library yang dibutuhkan."
      ]
    },
    {
      "cell_type": "code",
      "metadata": {
        "id": "tuobQJ5vwD_T"
      },
      "source": [
        "!pip install Sastrawi"
      ],
      "execution_count": null,
      "outputs": []
    },
    {
      "cell_type": "code",
      "metadata": {
        "id": "mpANC74jf6Sq"
      },
      "source": [
        "import pandas as pd\n",
        "import re\n",
        "import string\n",
        "from Sastrawi.StopWordRemover.StopWordRemoverFactory import StopWordRemoverFactory\n",
        "from Sastrawi.Stemmer.StemmerFactory import StemmerFactory"
      ],
      "execution_count": null,
      "outputs": []
    },
    {
      "cell_type": "code",
      "metadata": {
        "colab": {
          "base_uri": "https://localhost:8080/",
          "height": 363
        },
        "id": "d9p8PtVHrlO1",
        "outputId": "18e3ec73-cf03-4bb5-83b7-e0d9174a4996"
      },
      "source": [
        "df = pd.read_csv('verify_dataset.csv')\n",
        "\n",
        "df.sample(10)"
      ],
      "execution_count": null,
      "outputs": [
        {
          "output_type": "execute_result",
          "data": {
            "text/html": [
              "<div>\n",
              "<style scoped>\n",
              "    .dataframe tbody tr th:only-of-type {\n",
              "        vertical-align: middle;\n",
              "    }\n",
              "\n",
              "    .dataframe tbody tr th {\n",
              "        vertical-align: top;\n",
              "    }\n",
              "\n",
              "    .dataframe thead th {\n",
              "        text-align: right;\n",
              "    }\n",
              "</style>\n",
              "<table border=\"1\" class=\"dataframe\">\n",
              "  <thead>\n",
              "    <tr style=\"text-align: right;\">\n",
              "      <th></th>\n",
              "      <th>Judul</th>\n",
              "      <th>Label</th>\n",
              "    </tr>\n",
              "  </thead>\n",
              "  <tbody>\n",
              "    <tr>\n",
              "      <th>1939</th>\n",
              "      <td>Video Cari sensasi biar makin terkenal oleh @O...</td>\n",
              "      <td>1</td>\n",
              "    </tr>\n",
              "    <tr>\n",
              "      <th>38</th>\n",
              "      <td>Tulisan Lafadz Allah di Tisu Toilet</td>\n",
              "      <td>HOAX</td>\n",
              "    </tr>\n",
              "    <tr>\n",
              "      <th>549</th>\n",
              "      <td>VIRAL FOTO TEBING ULUWATU BALI RETAK, PIHAK P...</td>\n",
              "      <td>BENAR</td>\n",
              "    </tr>\n",
              "    <tr>\n",
              "      <th>2183</th>\n",
              "      <td>Bu Risma minta didoakan agar Surabaya tdk hancur</td>\n",
              "      <td>1</td>\n",
              "    </tr>\n",
              "    <tr>\n",
              "      <th>340</th>\n",
              "      <td>“Khoirul Anwar Penemu 4G LTE”</td>\n",
              "      <td>HOAX</td>\n",
              "    </tr>\n",
              "    <tr>\n",
              "      <th>1266</th>\n",
              "      <td>Mulai Tahun Depan, PDIP Minta MUI Agar Babi Pa...</td>\n",
              "      <td>0</td>\n",
              "    </tr>\n",
              "    <tr>\n",
              "      <th>871</th>\n",
              "      <td>NU Mendukung LGBT</td>\n",
              "      <td>0</td>\n",
              "    </tr>\n",
              "    <tr>\n",
              "      <th>2349</th>\n",
              "      <td>Tolak Jabatan Menteri, Sandiaga Katakan Lebih ...</td>\n",
              "      <td>1</td>\n",
              "    </tr>\n",
              "    <tr>\n",
              "      <th>1919</th>\n",
              "      <td>Omongan Bin Masak Ngak DIperhatikan</td>\n",
              "      <td>1</td>\n",
              "    </tr>\n",
              "    <tr>\n",
              "      <th>806</th>\n",
              "      <td>“Xiami, Jualan HP Atau Komunisme”</td>\n",
              "      <td>BENAR</td>\n",
              "    </tr>\n",
              "  </tbody>\n",
              "</table>\n",
              "</div>"
            ],
            "text/plain": [
              "                                                  Judul  Label\n",
              "1939  Video Cari sensasi biar makin terkenal oleh @O...      1\n",
              "38                  Tulisan Lafadz Allah di Tisu Toilet   HOAX\n",
              "549    VIRAL FOTO TEBING ULUWATU BALI RETAK, PIHAK P...  BENAR\n",
              "2183   Bu Risma minta didoakan agar Surabaya tdk hancur      1\n",
              "340                      “Khoirul Anwar Penemu 4G LTE”    HOAX\n",
              "1266  Mulai Tahun Depan, PDIP Minta MUI Agar Babi Pa...      0\n",
              "871                                   NU Mendukung LGBT      0\n",
              "2349  Tolak Jabatan Menteri, Sandiaga Katakan Lebih ...      1\n",
              "1919                Omongan Bin Masak Ngak DIperhatikan      1\n",
              "806                   “Xiami, Jualan HP Atau Komunisme”  BENAR"
            ]
          },
          "metadata": {
            "tags": []
          },
          "execution_count": 2
        }
      ]
    },
    {
      "cell_type": "markdown",
      "metadata": {
        "id": "h0IQQZzUr0w3"
      },
      "source": [
        " ## One Hot Encoding"
      ]
    },
    {
      "cell_type": "code",
      "metadata": {
        "colab": {
          "base_uri": "https://localhost:8080/"
        },
        "id": "lkVRp3vPsxB3",
        "outputId": "6d6c4590-09c7-48c5-f1cb-2f8d89d80e09"
      },
      "source": [
        "for label in sorted(df['Label'].unique()):\n",
        "  print(label)"
      ],
      "execution_count": null,
      "outputs": [
        {
          "output_type": "stream",
          "text": [
            "0\n",
            "1\n",
            "BENAR\n",
            "HOAX\n"
          ],
          "name": "stdout"
        }
      ]
    },
    {
      "cell_type": "markdown",
      "metadata": {
        "id": "LtH8FPCWsUDd"
      },
      "source": [
        "Pada tahap akusisi dan eksplorasi data, telah diketahui bahwa perlu dilakukan penyeragaman dalam pembuatan label. Maka perlu dilakukan one hot encoding dimana label HOAX akan dijadikan 1 dan label BENAR akan dijadikan 0."
      ]
    },
    {
      "cell_type": "markdown",
      "metadata": {
        "id": "EftpA1lLsnC6"
      },
      "source": [
        "Membuat fungsi one_hot_encoding."
      ]
    },
    {
      "cell_type": "code",
      "metadata": {
        "id": "UfL-lzzAruJM"
      },
      "source": [
        "def one_hot_encoding(label):\n",
        "  if label == 'BENAR' or label == '0':\n",
        "    label = 0\n",
        "  if label == 'HOAX' or label == '1':\n",
        "    label = 1\n",
        "  \n",
        "  return label"
      ],
      "execution_count": null,
      "outputs": []
    },
    {
      "cell_type": "markdown",
      "metadata": {
        "id": "CmhLrMhVs4H8"
      },
      "source": [
        "Mengaplikasikan fungsi one_hot_encoding kepada dataset."
      ]
    },
    {
      "cell_type": "code",
      "metadata": {
        "colab": {
          "base_uri": "https://localhost:8080/",
          "height": 363
        },
        "id": "uSpZ1-CDs3oG",
        "outputId": "4e11dd31-ea21-4fba-c09b-8cdee4a3cf40"
      },
      "source": [
        "df['Label'] = df['Label'].apply(one_hot_encoding)\n",
        "\n",
        "df.sample(10)"
      ],
      "execution_count": null,
      "outputs": [
        {
          "output_type": "execute_result",
          "data": {
            "text/html": [
              "<div>\n",
              "<style scoped>\n",
              "    .dataframe tbody tr th:only-of-type {\n",
              "        vertical-align: middle;\n",
              "    }\n",
              "\n",
              "    .dataframe tbody tr th {\n",
              "        vertical-align: top;\n",
              "    }\n",
              "\n",
              "    .dataframe thead th {\n",
              "        text-align: right;\n",
              "    }\n",
              "</style>\n",
              "<table border=\"1\" class=\"dataframe\">\n",
              "  <thead>\n",
              "    <tr style=\"text-align: right;\">\n",
              "      <th></th>\n",
              "      <th>Judul</th>\n",
              "      <th>Label</th>\n",
              "    </tr>\n",
              "  </thead>\n",
              "  <tbody>\n",
              "    <tr>\n",
              "      <th>78</th>\n",
              "      <td>Nama Jokowi Masuk Daftar Klien Konsultan Asing...</td>\n",
              "      <td>1</td>\n",
              "    </tr>\n",
              "    <tr>\n",
              "      <th>1144</th>\n",
              "      <td>KPK Tidak Pinjam Uang Rp. 5 miliar ke Probosut...</td>\n",
              "      <td>0</td>\n",
              "    </tr>\n",
              "    <tr>\n",
              "      <th>1717</th>\n",
              "      <td>MOTOR TERBAKAR KARENA HP DIDALAM JOK</td>\n",
              "      <td>1</td>\n",
              "    </tr>\n",
              "    <tr>\n",
              "      <th>787</th>\n",
              "      <td>“Artis Dorce Gamalama Tidak Meninggal Dunia”</td>\n",
              "      <td>0</td>\n",
              "    </tr>\n",
              "    <tr>\n",
              "      <th>584</th>\n",
              "      <td>Klarifikasi RSUD Tarakan Terkait Kabar Penaha...</td>\n",
              "      <td>0</td>\n",
              "    </tr>\n",
              "    <tr>\n",
              "      <th>223</th>\n",
              "      <td>DITUDING TAWARKAN PEKERJAAN KE PERETAS SITUS K...</td>\n",
              "      <td>0</td>\n",
              "    </tr>\n",
              "    <tr>\n",
              "      <th>1087</th>\n",
              "      <td>: Dimana TNI dan POLRI dalam Isu Komunisme ata...</td>\n",
              "      <td>0</td>\n",
              "    </tr>\n",
              "    <tr>\n",
              "      <th>2259</th>\n",
              "      <td>Pemusnahan babi massal di Thailand</td>\n",
              "      <td>1</td>\n",
              "    </tr>\n",
              "    <tr>\n",
              "      <th>1017</th>\n",
              "      <td>Malih Tong-tong Meninggal Dunia</td>\n",
              "      <td>0</td>\n",
              "    </tr>\n",
              "    <tr>\n",
              "      <th>1918</th>\n",
              "      <td>Wearing a mask can cause pleurisy</td>\n",
              "      <td>1</td>\n",
              "    </tr>\n",
              "  </tbody>\n",
              "</table>\n",
              "</div>"
            ],
            "text/plain": [
              "                                                  Judul  Label\n",
              "78    Nama Jokowi Masuk Daftar Klien Konsultan Asing...      1\n",
              "1144  KPK Tidak Pinjam Uang Rp. 5 miliar ke Probosut...      0\n",
              "1717               MOTOR TERBAKAR KARENA HP DIDALAM JOK      1\n",
              "787        “Artis Dorce Gamalama Tidak Meninggal Dunia”      0\n",
              "584    Klarifikasi RSUD Tarakan Terkait Kabar Penaha...      0\n",
              "223   DITUDING TAWARKAN PEKERJAAN KE PERETAS SITUS K...      0\n",
              "1087  : Dimana TNI dan POLRI dalam Isu Komunisme ata...      0\n",
              "2259                 Pemusnahan babi massal di Thailand      1\n",
              "1017                    Malih Tong-tong Meninggal Dunia      0\n",
              "1918                  Wearing a mask can cause pleurisy      1"
            ]
          },
          "metadata": {
            "tags": []
          },
          "execution_count": 16
        }
      ]
    },
    {
      "cell_type": "markdown",
      "metadata": {
        "id": "SeWVxScZt0xQ"
      },
      "source": [
        "Mengecek jumlah setiap label yang ada dalam dataset."
      ]
    },
    {
      "cell_type": "code",
      "metadata": {
        "colab": {
          "base_uri": "https://localhost:8080/",
          "height": 112
        },
        "id": "jCOJ-1dhtBgp",
        "outputId": "9c8fc7c2-97ea-4db9-e601-c3b6b7c50ec7"
      },
      "source": [
        "label_dict = {}\n",
        "for label in sorted(df['Label']):\n",
        "  if label not in label_dict:\n",
        "    label_dict[label] = 0\n",
        "  label_dict[label] += 1\n",
        "\n",
        "label_df = pd.DataFrame(label_dict.items(), columns=['Label', 'Count'])\n",
        "label_df.sort_values(by='Count', ascending=False).head()\n",
        "#label_df.plot.bar('Label', 'Count')"
      ],
      "execution_count": null,
      "outputs": [
        {
          "output_type": "execute_result",
          "data": {
            "text/html": [
              "<div>\n",
              "<style scoped>\n",
              "    .dataframe tbody tr th:only-of-type {\n",
              "        vertical-align: middle;\n",
              "    }\n",
              "\n",
              "    .dataframe tbody tr th {\n",
              "        vertical-align: top;\n",
              "    }\n",
              "\n",
              "    .dataframe thead th {\n",
              "        text-align: right;\n",
              "    }\n",
              "</style>\n",
              "<table border=\"1\" class=\"dataframe\">\n",
              "  <thead>\n",
              "    <tr style=\"text-align: right;\">\n",
              "      <th></th>\n",
              "      <th>Label</th>\n",
              "      <th>Count</th>\n",
              "    </tr>\n",
              "  </thead>\n",
              "  <tbody>\n",
              "    <tr>\n",
              "      <th>0</th>\n",
              "      <td>0</td>\n",
              "      <td>1202</td>\n",
              "    </tr>\n",
              "    <tr>\n",
              "      <th>1</th>\n",
              "      <td>1</td>\n",
              "      <td>1164</td>\n",
              "    </tr>\n",
              "  </tbody>\n",
              "</table>\n",
              "</div>"
            ],
            "text/plain": [
              "   Label  Count\n",
              "0      0   1202\n",
              "1      1   1164"
            ]
          },
          "metadata": {
            "tags": []
          },
          "execution_count": 18
        }
      ]
    },
    {
      "cell_type": "markdown",
      "metadata": {
        "id": "0tEL6Jtmt9aZ"
      },
      "source": [
        "## Text Cleaning"
      ]
    },
    {
      "cell_type": "markdown",
      "metadata": {
        "id": "h5GGknXmuJ3A"
      },
      "source": [
        "Text cleaning terdiri atas data cleansing 2, 3, dan 4. Ketiga tahap tersebut dipilih berdasarkan asesmen yang dilakukan saat melakukan eksplorasi data."
      ]
    },
    {
      "cell_type": "markdown",
      "metadata": {
        "id": "2XvHI011uiTO"
      },
      "source": [
        "Membuat fungsi text_cleaning."
      ]
    },
    {
      "cell_type": "code",
      "metadata": {
        "id": "KaW9oOd3ukWy"
      },
      "source": [
        "def text_cleaning(judul):\n",
        "  judul = judul.lower()                                               # casefolding\n",
        "  judul = re.sub('\\(.*?\\) | \\[.*?\\]', '', judul)                      # kata di dalam kurung\n",
        "  judul = re.sub('[%s]' % re.escape(string.punctuation), '', judul)   # punctuation\n",
        "  judul = re.sub('[‘’“”…]', '', judul)                                # tanda kutip\n",
        "\n",
        "  return judul"
      ],
      "execution_count": null,
      "outputs": []
    },
    {
      "cell_type": "markdown",
      "metadata": {
        "id": "EMYkYinluzCi"
      },
      "source": [
        "Mengaplikasikan fungsi text_cleaning ke dalam dataset."
      ]
    },
    {
      "cell_type": "code",
      "metadata": {
        "colab": {
          "base_uri": "https://localhost:8080/",
          "height": 363
        },
        "id": "tPNf8qhsu2_x",
        "outputId": "e87c0e99-1269-4adf-9f7c-77867ec8d605"
      },
      "source": [
        "df['Judul'] = df['Judul'].apply(text_cleaning)\n",
        "\n",
        "df.sample(10)"
      ],
      "execution_count": null,
      "outputs": [
        {
          "output_type": "execute_result",
          "data": {
            "text/html": [
              "<div>\n",
              "<style scoped>\n",
              "    .dataframe tbody tr th:only-of-type {\n",
              "        vertical-align: middle;\n",
              "    }\n",
              "\n",
              "    .dataframe tbody tr th {\n",
              "        vertical-align: top;\n",
              "    }\n",
              "\n",
              "    .dataframe thead th {\n",
              "        text-align: right;\n",
              "    }\n",
              "</style>\n",
              "<table border=\"1\" class=\"dataframe\">\n",
              "  <thead>\n",
              "    <tr style=\"text-align: right;\">\n",
              "      <th></th>\n",
              "      <th>Judul</th>\n",
              "      <th>Label</th>\n",
              "    </tr>\n",
              "  </thead>\n",
              "  <tbody>\n",
              "    <tr>\n",
              "      <th>172</th>\n",
              "      <td>samsul bahri ketua kpps sydney pro 02</td>\n",
              "      <td>1</td>\n",
              "    </tr>\n",
              "    <tr>\n",
              "      <th>2365</th>\n",
              "      <td>starbucks haram di malaysia</td>\n",
              "      <td>1</td>\n",
              "    </tr>\n",
              "    <tr>\n",
              "      <th>1824</th>\n",
              "      <td>minyak goreng asri produksi leong hup terbuat ...</td>\n",
              "      <td>1</td>\n",
              "    </tr>\n",
              "    <tr>\n",
              "      <th>1305</th>\n",
              "      <td>ini penjelasan mentan soal larangan rockmelon ...</td>\n",
              "      <td>0</td>\n",
              "    </tr>\n",
              "    <tr>\n",
              "      <th>1588</th>\n",
              "      <td>lurah pabean tak mengenakan atribut pdip di ra...</td>\n",
              "      <td>0</td>\n",
              "    </tr>\n",
              "    <tr>\n",
              "      <th>987</th>\n",
              "      <td>dituding menculik dan berat sebelah pada kasus...</td>\n",
              "      <td>0</td>\n",
              "    </tr>\n",
              "    <tr>\n",
              "      <th>1033</th>\n",
              "      <td>bukankah zakat itu satu tahun sekali  jadi kal...</td>\n",
              "      <td>0</td>\n",
              "    </tr>\n",
              "    <tr>\n",
              "      <th>925</th>\n",
              "      <td>klarifikasi kementerian kelautan dan perikanan...</td>\n",
              "      <td>0</td>\n",
              "    </tr>\n",
              "    <tr>\n",
              "      <th>437</th>\n",
              "      <td>pakai menyamar jadi lelaki gelar habib</td>\n",
              "      <td>1</td>\n",
              "    </tr>\n",
              "    <tr>\n",
              "      <th>1283</th>\n",
              "      <td>the end of the legend kopi liong bulan</td>\n",
              "      <td>0</td>\n",
              "    </tr>\n",
              "  </tbody>\n",
              "</table>\n",
              "</div>"
            ],
            "text/plain": [
              "                                                  Judul  Label\n",
              "172               samsul bahri ketua kpps sydney pro 02      1\n",
              "2365                        starbucks haram di malaysia      1\n",
              "1824  minyak goreng asri produksi leong hup terbuat ...      1\n",
              "1305  ini penjelasan mentan soal larangan rockmelon ...      0\n",
              "1588  lurah pabean tak mengenakan atribut pdip di ra...      0\n",
              "987   dituding menculik dan berat sebelah pada kasus...      0\n",
              "1033  bukankah zakat itu satu tahun sekali  jadi kal...      0\n",
              "925   klarifikasi kementerian kelautan dan perikanan...      0\n",
              "437              pakai menyamar jadi lelaki gelar habib      1\n",
              "1283             the end of the legend kopi liong bulan      0"
            ]
          },
          "metadata": {
            "tags": []
          },
          "execution_count": 22
        }
      ]
    },
    {
      "cell_type": "markdown",
      "metadata": {
        "id": "sqYT4W8hvORl"
      },
      "source": [
        "## Stopwords"
      ]
    },
    {
      "cell_type": "markdown",
      "metadata": {
        "id": "c8YRS4IGvt2H"
      },
      "source": [
        "Tahap ini berarti menghilangkan kata-kata yang sering muncul dan tidak terlalu berpengaruh kepada makna kalimat. Tahap ini menggunakan library sastrawi."
      ]
    },
    {
      "cell_type": "markdown",
      "metadata": {
        "id": "e4NdsEywwSRd"
      },
      "source": [
        "Load stopword dari sastrawi."
      ]
    },
    {
      "cell_type": "code",
      "metadata": {
        "id": "GvcqV334wJ7X"
      },
      "source": [
        "factory = StopWordRemoverFactory()\n",
        "new_stopwords = ['yg', 'dgn', 'dlm', 'nya']\n",
        "stopwords = factory.get_stop_words() + new_stopwords\n",
        "stopwords = factory.create_stop_word_remover()\n",
        "\n",
        "#for stopword in stopwords:\n",
        "#  print(stopword)"
      ],
      "execution_count": null,
      "outputs": []
    },
    {
      "cell_type": "markdown",
      "metadata": {
        "id": "cDjT3C03wWIL"
      },
      "source": [
        "Membuat fungsi stopwords_removal."
      ]
    },
    {
      "cell_type": "code",
      "metadata": {
        "id": "L58wnB0fwbYM"
      },
      "source": [
        "def stopwords_removal(judul):\n",
        "  judul = stopwords.remove(judul)\n",
        "\n",
        "  return judul"
      ],
      "execution_count": null,
      "outputs": []
    },
    {
      "cell_type": "markdown",
      "metadata": {
        "id": "L2_ttdwTwfqN"
      },
      "source": [
        "Mengaplikasikan fungsi stopwords_removal kepada dataset."
      ]
    },
    {
      "cell_type": "code",
      "metadata": {
        "colab": {
          "base_uri": "https://localhost:8080/",
          "height": 363
        },
        "id": "EME7FONkwkRU",
        "outputId": "fd16eb83-13dd-49a3-b8e0-396c7af2cee4"
      },
      "source": [
        "df['Judul'] = df['Judul'].apply(stopwords_removal)\n",
        "\n",
        "df.sample(10)"
      ],
      "execution_count": null,
      "outputs": [
        {
          "output_type": "execute_result",
          "data": {
            "text/html": [
              "<div>\n",
              "<style scoped>\n",
              "    .dataframe tbody tr th:only-of-type {\n",
              "        vertical-align: middle;\n",
              "    }\n",
              "\n",
              "    .dataframe tbody tr th {\n",
              "        vertical-align: top;\n",
              "    }\n",
              "\n",
              "    .dataframe thead th {\n",
              "        text-align: right;\n",
              "    }\n",
              "</style>\n",
              "<table border=\"1\" class=\"dataframe\">\n",
              "  <thead>\n",
              "    <tr style=\"text-align: right;\">\n",
              "      <th></th>\n",
              "      <th>Judul</th>\n",
              "      <th>Label</th>\n",
              "    </tr>\n",
              "  </thead>\n",
              "  <tbody>\n",
              "    <tr>\n",
              "      <th>2316</th>\n",
              "      <td>uang bayaran tim basukidjarot</td>\n",
              "      <td>1</td>\n",
              "    </tr>\n",
              "    <tr>\n",
              "      <th>450</th>\n",
              "      <td>petik buah rambutan gratis kandang harimau keb...</td>\n",
              "      <td>1</td>\n",
              "    </tr>\n",
              "    <tr>\n",
              "      <th>1665</th>\n",
              "      <td>sby telepon moeldoko suruh jokowi akui kekalahan</td>\n",
              "      <td>1</td>\n",
              "    </tr>\n",
              "    <tr>\n",
              "      <th>1352</th>\n",
              "      <td>menanamkan mental paranoid melalui berita hoax</td>\n",
              "      <td>0</td>\n",
              "    </tr>\n",
              "    <tr>\n",
              "      <th>871</th>\n",
              "      <td>nu mendukung lgbt</td>\n",
              "      <td>0</td>\n",
              "    </tr>\n",
              "    <tr>\n",
              "      <th>1205</th>\n",
              "      <td>klarifikasi dahnil anzar terkait email skenari...</td>\n",
              "      <td>0</td>\n",
              "    </tr>\n",
              "    <tr>\n",
              "      <th>1273</th>\n",
              "      <td>rs wates pasang spanduk umumkan bpjs menunggak...</td>\n",
              "      <td>0</td>\n",
              "    </tr>\n",
              "    <tr>\n",
              "      <th>594</th>\n",
              "      <td>klarifikasi dahnil anzar terkait email skenar...</td>\n",
              "      <td>0</td>\n",
              "    </tr>\n",
              "    <tr>\n",
              "      <th>2289</th>\n",
              "      <td>polling membangun kuil masjid atas tapak masji...</td>\n",
              "      <td>1</td>\n",
              "    </tr>\n",
              "    <tr>\n",
              "      <th>1039</th>\n",
              "      <td>pentingnya membaca seluruh isi berita bukan ju...</td>\n",
              "      <td>0</td>\n",
              "    </tr>\n",
              "  </tbody>\n",
              "</table>\n",
              "</div>"
            ],
            "text/plain": [
              "                                                  Judul  Label\n",
              "2316                      uang bayaran tim basukidjarot      1\n",
              "450   petik buah rambutan gratis kandang harimau keb...      1\n",
              "1665   sby telepon moeldoko suruh jokowi akui kekalahan      1\n",
              "1352     menanamkan mental paranoid melalui berita hoax      0\n",
              "871                                   nu mendukung lgbt      0\n",
              "1205  klarifikasi dahnil anzar terkait email skenari...      0\n",
              "1273  rs wates pasang spanduk umumkan bpjs menunggak...      0\n",
              "594    klarifikasi dahnil anzar terkait email skenar...      0\n",
              "2289  polling membangun kuil masjid atas tapak masji...      1\n",
              "1039  pentingnya membaca seluruh isi berita bukan ju...      0"
            ]
          },
          "metadata": {
            "tags": []
          },
          "execution_count": 31
        }
      ]
    },
    {
      "cell_type": "markdown",
      "metadata": {
        "id": "mIduOaMgwyLY"
      },
      "source": [
        "## Steming"
      ]
    },
    {
      "cell_type": "markdown",
      "metadata": {
        "id": "f-7G3CoJx7uY"
      },
      "source": [
        "Tahap steming merupakan penghapusan imbuhan dalam suatu kata. Tahap ini juga menggunakan library sastrawi."
      ]
    },
    {
      "cell_type": "code",
      "metadata": {
        "id": "VcAVKO4ryI7i"
      },
      "source": [
        "factory = StemmerFactory()\n",
        "stemmer = factory.create_stemmer()"
      ],
      "execution_count": null,
      "outputs": []
    },
    {
      "cell_type": "markdown",
      "metadata": {
        "id": "s-JFv5fnye8G"
      },
      "source": [
        "Mengaplikasikan stemmer ke dalam dataset."
      ]
    },
    {
      "cell_type": "code",
      "metadata": {
        "colab": {
          "base_uri": "https://localhost:8080/",
          "height": 363
        },
        "id": "gGTTDzj9yi3z",
        "outputId": "0438b7cc-393d-4249-ad0a-1bcca02732eb"
      },
      "source": [
        "df['Judul'] = df['Judul'].apply(lambda judul:stemmer.stem(judul))\n",
        "\n",
        "df.sample(10)"
      ],
      "execution_count": null,
      "outputs": [
        {
          "output_type": "execute_result",
          "data": {
            "text/html": [
              "<div>\n",
              "<style scoped>\n",
              "    .dataframe tbody tr th:only-of-type {\n",
              "        vertical-align: middle;\n",
              "    }\n",
              "\n",
              "    .dataframe tbody tr th {\n",
              "        vertical-align: top;\n",
              "    }\n",
              "\n",
              "    .dataframe thead th {\n",
              "        text-align: right;\n",
              "    }\n",
              "</style>\n",
              "<table border=\"1\" class=\"dataframe\">\n",
              "  <thead>\n",
              "    <tr style=\"text-align: right;\">\n",
              "      <th></th>\n",
              "      <th>Judul</th>\n",
              "      <th>Label</th>\n",
              "    </tr>\n",
              "  </thead>\n",
              "  <tbody>\n",
              "    <tr>\n",
              "      <th>417</th>\n",
              "      <td>klarifikasi pt kai atas tuduh batal tiket romb...</td>\n",
              "      <td>0</td>\n",
              "    </tr>\n",
              "    <tr>\n",
              "      <th>2172</th>\n",
              "      <td>markas indonesia ajar jadi basecamp anies pilk...</td>\n",
              "      <td>1</td>\n",
              "    </tr>\n",
              "    <tr>\n",
              "      <th>2044</th>\n",
              "      <td>paham politik gak sih pak</td>\n",
              "      <td>1</td>\n",
              "    </tr>\n",
              "    <tr>\n",
              "      <th>137</th>\n",
              "      <td>jokowi sdh kunjung christchurch</td>\n",
              "      <td>1</td>\n",
              "    </tr>\n",
              "    <tr>\n",
              "      <th>1684</th>\n",
              "      <td>judul berita tempo mui minta jangan main terom...</td>\n",
              "      <td>1</td>\n",
              "    </tr>\n",
              "    <tr>\n",
              "      <th>1015</th>\n",
              "      <td>baliho red army kota malang simbol bangkit pki</td>\n",
              "      <td>0</td>\n",
              "    </tr>\n",
              "    <tr>\n",
              "      <th>1334</th>\n",
              "      <td>usus buntu bukan sebab tel biji jambu</td>\n",
              "      <td>0</td>\n",
              "    </tr>\n",
              "    <tr>\n",
              "      <th>2283</th>\n",
              "      <td>mahasiswa usir tumpang gelap</td>\n",
              "      <td>1</td>\n",
              "    </tr>\n",
              "    <tr>\n",
              "      <th>318</th>\n",
              "      <td>suhu panas kuwait leleh mobil lampu lalulintas</td>\n",
              "      <td>1</td>\n",
              "    </tr>\n",
              "    <tr>\n",
              "      <th>1394</th>\n",
              "      <td>220 anak palestina ungsi siap adopsi belawan m...</td>\n",
              "      <td>0</td>\n",
              "    </tr>\n",
              "  </tbody>\n",
              "</table>\n",
              "</div>"
            ],
            "text/plain": [
              "                                                  Judul  Label\n",
              "417   klarifikasi pt kai atas tuduh batal tiket romb...      0\n",
              "2172  markas indonesia ajar jadi basecamp anies pilk...      1\n",
              "2044                          paham politik gak sih pak      1\n",
              "137                     jokowi sdh kunjung christchurch      1\n",
              "1684  judul berita tempo mui minta jangan main terom...      1\n",
              "1015     baliho red army kota malang simbol bangkit pki      0\n",
              "1334              usus buntu bukan sebab tel biji jambu      0\n",
              "2283                       mahasiswa usir tumpang gelap      1\n",
              "318      suhu panas kuwait leleh mobil lampu lalulintas      1\n",
              "1394  220 anak palestina ungsi siap adopsi belawan m...      0"
            ]
          },
          "metadata": {
            "tags": []
          },
          "execution_count": 34
        }
      ]
    },
    {
      "cell_type": "markdown",
      "metadata": {
        "id": "QWfOCAGq4lmT"
      },
      "source": [
        "## Save verify_dataset_clean"
      ]
    },
    {
      "cell_type": "markdown",
      "metadata": {
        "id": "TbMIGxKo4sBO"
      },
      "source": [
        "Menyimpan dataset yang telah melalui tahap text_cleansing."
      ]
    },
    {
      "cell_type": "code",
      "metadata": {
        "id": "QKieVRj44rBV"
      },
      "source": [
        "df.to_csv('verify_dataset_clean.csv', index=False)"
      ],
      "execution_count": null,
      "outputs": []
    },
    {
      "cell_type": "code",
      "metadata": {
        "id": "IGcvWlZ045Wm"
      },
      "source": [
        ""
      ],
      "execution_count": null,
      "outputs": []
    }
  ]
}