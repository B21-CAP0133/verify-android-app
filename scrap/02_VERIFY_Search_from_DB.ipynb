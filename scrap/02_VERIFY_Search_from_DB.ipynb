{
  "nbformat": 4,
  "nbformat_minor": 0,
  "metadata": {
    "colab": {
      "name": "02-VERIFY-Search_from_DB",
      "provenance": [],
      "authorship_tag": "ABX9TyMmMLkAOWKLRr58uA5tffJR",
      "include_colab_link": true
    },
    "kernelspec": {
      "name": "python3",
      "display_name": "Python 3"
    },
    "language_info": {
      "name": "python"
    }
  },
  "cells": [
    {
      "cell_type": "markdown",
      "metadata": {
        "id": "view-in-github",
        "colab_type": "text"
      },
      "source": [
        "<a href=\"https://colab.research.google.com/github/B21-CAP0133/verify-android-app/blob/master/scrap/02_VERIFY_Search_from_DB.ipynb\" target=\"_parent\"><img src=\"https://colab.research.google.com/assets/colab-badge.svg\" alt=\"Open In Colab\"/></a>"
      ]
    },
    {
      "cell_type": "code",
      "metadata": {
        "id": "-yoiVIEGV_as"
      },
      "source": [
        "import pandas as pd\n",
        "from collections import Counter\n",
        "from sklearn.feature_extraction.text import CountVectorizer\n",
        "from sklearn.metrics.pairwise import cosine_similarity\n",
        "import json"
      ],
      "execution_count": null,
      "outputs": []
    },
    {
      "cell_type": "code",
      "metadata": {
        "id": "j5PU0TcBWBO_"
      },
      "source": [
        "def read_db():\n",
        "  df = pd.read_csv('dB_tbh.csv')\n",
        "\n",
        "  judul = db['Judul'].apply(str).values.tolist()\n",
        "  isi = db['Isi berita bersih'].apply(str).values.tolist()\n",
        "  url = db['Link'].values.tolist()\n",
        "  date = db['Tanggal'].values.tolist()\n",
        "\n",
        "  return judul, isi, url, date"
      ],
      "execution_count": null,
      "outputs": []
    },
    {
      "cell_type": "code",
      "metadata": {
        "id": "CGdgDS5ca2cK"
      },
      "source": [
        "def get_cosine_sim(*strs): \n",
        "    vectors = [t for t in get_vectors(*strs)]\n",
        "    return cosine_similarity(vectors)\n",
        "    \n",
        "def get_vectors(*strs):\n",
        "    text = [t for t in strs]\n",
        "    vectorizer = CountVectorizer(text)\n",
        "    vectorizer.fit(text)\n",
        "    return vectorizer.transform(text).toarray()"
      ],
      "execution_count": null,
      "outputs": []
    },
    {
      "cell_type": "code",
      "metadata": {
        "id": "JqVnUW5LeG4W"
      },
      "source": [
        "def cek_kesamaan(headline_input, pembanding):\n",
        "  cosine_sim = []\n",
        "  for p in pembanding:\n",
        "    cs = get_cosine_sim(headline_input, p).min()\n",
        "    cosine_sim.append(cs)\n",
        "\n",
        "  maks = cosine_sim.index(max(cosine_sim))\n",
        "  top = pembanding[maks]\n",
        "\n",
        "  return max(cosine_sim), top"
      ],
      "execution_count": null,
      "outputs": []
    },
    {
      "cell_type": "code",
      "metadata": {
        "id": "nXA1iwfgyqNu"
      },
      "source": [
        "def write_json(judul, url, date, isi):\n",
        "  to_json = {\n",
        "      'code': 200,\n",
        "      'judul': judul,\n",
        "      'url': url,\n",
        "      'tanggal': date,\n",
        "      'isi': isi\n",
        "  }\n",
        "  with open(\"message.json\", \"w\") as f:\n",
        "      json.dump(to_json, f)\n",
        "\n",
        "def write_json_notfound():\n",
        "  to_json = {\n",
        "      'code': 404,\n",
        "      'isi': 'Tidak ditemukan berita'\n",
        "  }\n",
        "  with open(\"message.json\", \"w\") as f:\n",
        "      json.dump(to_json, f)"
      ],
      "execution_count": null,
      "outputs": []
    },
    {
      "cell_type": "code",
      "metadata": {
        "id": "v665CzXjj_tS"
      },
      "source": [
        "def search_from_db(headline_input):\n",
        "  judul, isi, url, date = read_db()\n",
        "\n",
        "  max_cs_j, top_j = cek_kesamaan(headline_input, judul)\n",
        "  \n",
        "  # Treshold apakah mencari kesamaan dalam isi berita diperlukan?\n",
        "  # kondisi ketika pencarian tidak dilakukan\n",
        "  if max_cs_j > 0:\n",
        "    idx = judul.index(top_j)\n",
        "    write_json(top_j, url[idx], date[idx], isi[idx])\n",
        "    print('berita tersedia')\n",
        "  \n",
        "  # kondisi ketika pencarian perlu dilakukan\n",
        "  else:\n",
        "    max_cs_i, top_i = cek_kesamaan(headline_input, isi)\n",
        "\n",
        "    # kondisi ketika tidak ditemukan kecocokan sama sekali\n",
        "    if max_cs_i == 0:\n",
        "      write_json_notfound()\n",
        "      print('berita belum tersedia')\n",
        "    else:\n",
        "      idx = judul.index(top_i)\n",
        "      write_json(top_i, url[idx], date[idx], isi[idx])\n",
        "      print('berita tersedia')"
      ],
      "execution_count": null,
      "outputs": []
    },
    {
      "cell_type": "code",
      "metadata": {
        "id": "IK6lebcx2kuz"
      },
      "source": [
        ""
      ],
      "execution_count": null,
      "outputs": []
    }
  ]
}