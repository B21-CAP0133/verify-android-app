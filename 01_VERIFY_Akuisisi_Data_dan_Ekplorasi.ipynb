{
  "nbformat": 4,
  "nbformat_minor": 0,
  "metadata": {
    "colab": {
      "name": "01-VERIFY-Akuisisi_Data_dan_Ekplorasi",
      "provenance": [],
      "include_colab_link": true
    },
    "kernelspec": {
      "name": "python3",
      "display_name": "Python 3"
    },
    "language_info": {
      "name": "python"
    }
  },
  "cells": [
    {
      "cell_type": "markdown",
      "metadata": {
        "id": "view-in-github",
        "colab_type": "text"
      },
      "source": [
        "<a href=\"https://colab.research.google.com/github/B21-CAP0133/verify-android-app/blob/ML/01_VERIFY_Akuisisi_Data_dan_Ekplorasi.ipynb\" target=\"_parent\"><img src=\"https://colab.research.google.com/assets/colab-badge.svg\" alt=\"Open In Colab\"/></a>"
      ]
    },
    {
      "cell_type": "markdown",
      "metadata": {
        "id": "TD56pCjHK83T"
      },
      "source": [
        "## Satu Data Indonesia"
      ]
    },
    {
      "cell_type": "markdown",
      "metadata": {
        "id": "DkjgoCJCLCJX"
      },
      "source": [
        "Melakukan akuisisi data dengan mendownload dari website [Satu Data Indonesia](https://data.go.id)."
      ]
    },
    {
      "cell_type": "markdown",
      "metadata": {
        "id": "e7qnZHLyLTex"
      },
      "source": [
        "Melakukan import library yang dibutuhkan."
      ]
    },
    {
      "cell_type": "code",
      "metadata": {
        "id": "Rt2gubl3K02z"
      },
      "source": [
        "import pandas as pd"
      ],
      "execution_count": null,
      "outputs": []
    },
    {
      "cell_type": "markdown",
      "metadata": {
        "id": "EADHquqgLbX8"
      },
      "source": [
        "Membuat list url sumber data yang selanjutnya akan diimport menjadi suatu DataFrame."
      ]
    },
    {
      "cell_type": "code",
      "metadata": {
        "id": "6wcW_-tDmCIC"
      },
      "source": [
        "url = ['https://data.go.id/dataset/daftar-hoax-januari-2019/fa6b9614-9bbf-481a-ade4-fda718db8ff4/download',\n",
        "       'https://data.go.id/dataset/daftar-hoax-januari-2019/33cc9b95-3b1d-48e8-b1ee-d3aaea330682/download',\n",
        "       'https://data.go.id/dataset/daftar-hoax-januari-2019/a5fbc4db-9c8e-431a-9f61-fe3b72a03988/download',\n",
        "       'https://data.go.id/dataset/daftar-hoax-januari-2019/f15f45a6-945b-4688-80eb-a50f9f1b7319/download',\n",
        "       'https://data.go.id/dataset/daftar-hoax-januari-2019/c4955491-6e1e-4d89-b33e-d51748a723b2/download',\n",
        "       'https://data.go.id/dataset/daftar-hoax-januari-2019/c4794215-a466-4f6c-ba7c-71749a1a0b45/download',\n",
        "       'https://data.go.id/dataset/daftar-hoax-januari-2019/397b97b1-af69-4b5f-b837-e4a860007c5f/download',\n",
        "       'https://data.go.id/dataset/daftar-hoax-januari-2019/b6506f60-9855-427d-9f9a-93f541365c32/download',\n",
        "       'https://data.go.id/dataset/rekapan-isu-hoax-2018/66655ca6-ef19-4ef3-8748-e27519876737/download',\n",
        "       'https://data.go.id/dataset/rekapan-isu-hoax-2018/0d8625ff-543c-440e-9568-4852a318bf02/download'\n",
        "       ]"
      ],
      "execution_count": null,
      "outputs": []
    },
    {
      "cell_type": "markdown",
      "metadata": {
        "id": "BZlpaorTLqRh"
      },
      "source": [
        "Membuat fungsi untuk mengekstrak dataset dari berkas yang telah didownload."
      ]
    },
    {
      "cell_type": "code",
      "metadata": {
        "id": "5puNC9DRZlWb"
      },
      "source": [
        "def extract_from_sdi(url_source):\n",
        "  df = pd.read_excel(url_source)\n",
        "  if len(df.columns) > 5:\n",
        "    df.drop(columns=['Unnamed: 5'])\n",
        "  return df"
      ],
      "execution_count": null,
      "outputs": []
    },
    {
      "cell_type": "markdown",
      "metadata": {
        "id": "sgFt-lkXLyK3"
      },
      "source": [
        "Melakukan ekstraksi data dari berkas yang didownload. Kemudian menghapus baris dan kolom yang tidak diperlukan. Kolom yang diperlukan merupakan kolom berisi judul berita dan label yang diberikan pada judul tersebut.\n",
        "\n",
        "_Dikarenakan keterbatasan ilmu, ekstraksi data dilakukan secara manual, satu-persatu. Diharapkan kedepannya dapat dilakukan secara otomatis_."
      ]
    },
    {
      "cell_type": "code",
      "metadata": {
        "id": "4AfKohMaaJrA"
      },
      "source": [
        "sdi_jan = extract_from_sdi(url[0]).drop(0)\n",
        "sdi_jan = sdi_jan.drop(columns=['RANGKUMAN BERITA HOAX BULAN JANUARI 2019',\n",
        "                                'Unnamed: 2',\n",
        "                                'Unnamed: 4',\n",
        "                                'Unnamed: 5']\n",
        "                       ).reset_index(drop=True)\n",
        "sdi_jan.columns = ['Judul','Label']\n",
        "\n",
        "sdi_feb = extract_from_sdi(url[1]).drop([0, 1, 2])\n",
        "sdi_feb = sdi_feb.drop(columns=['Unnamed: 0',\n",
        "                                'Unnamed: 2',\n",
        "                                'Unnamed: 4']\n",
        "                       ).reset_index(drop=True)\n",
        "sdi_feb.columns = ['Judul','Label']\n",
        "\n",
        "sdi_mar = extract_from_sdi(url[2]).drop([0, 1, 2])\n",
        "sdi_mar = sdi_mar.drop(columns=['Unnamed: 0',\n",
        "                                'Unnamed: 2',\n",
        "                                'Unnamed: 4']\n",
        "                       ).reset_index(drop=True)\n",
        "sdi_mar.columns = ['Judul','Label']\n",
        "\n",
        "sdi_apr = extract_from_sdi(url[3]).drop([0, 1, 2])\n",
        "sdi_apr = sdi_apr.drop(columns=['Unnamed: 0',\n",
        "                                'Unnamed: 2',\n",
        "                                'Unnamed: 4']\n",
        "                       ).reset_index(drop=True)\n",
        "sdi_apr.columns = ['Judul','Label']\n",
        "\n",
        "sdi_mei = extract_from_sdi(url[4]).drop([0, 1, 2])\n",
        "sdi_mei = sdi_mei.drop(columns=['Unnamed: 0',\n",
        "                                'Unnamed: 2',\n",
        "                                'Unnamed: 4']\n",
        "                       ).reset_index(drop=True)\n",
        "sdi_mei.columns = ['Judul','Label']\n",
        "\n",
        "sdi_jun = extract_from_sdi(url[5]).drop([0, 1, 2])\n",
        "sdi_jun = sdi_jun.drop(columns=['Unnamed: 0',\n",
        "                                'Unnamed: 2',\n",
        "                                'Unnamed: 4']\n",
        "                       ).reset_index(drop=True)\n",
        "sdi_jun.columns = ['Judul','Label']\n",
        "\n",
        "sdi_jul = extract_from_sdi(url[6]).drop([0, 1, 2])\n",
        "sdi_jul = sdi_jul.drop(columns=['Unnamed: 0',\n",
        "                                'Unnamed: 2',\n",
        "                                'Unnamed: 4']\n",
        "                       ).reset_index(drop=True)\n",
        "sdi_jul.columns = ['Judul','Label']\n",
        "\n",
        "sdi_agt = extract_from_sdi(url[7]).drop([0, 1, 2])\n",
        "sdi_agt = sdi_agt.drop(columns=['Unnamed: 0',\n",
        "                                'Unnamed: 2',\n",
        "                                'Unnamed: 4']\n",
        "                       ).reset_index(drop=True)\n",
        "sdi_agt.columns = ['Judul','Label']\n",
        "\n",
        "sdi_nov = extract_from_sdi(url[8]).drop([0])\n",
        "sdi_nov = sdi_nov.drop(columns=['RANGKUMAN BERITA HOAX BULAN NOVEMBER 2018',\n",
        "                                'Unnamed: 2',\n",
        "                                'Unnamed: 4',\n",
        "                                'Unnamed: 5']\n",
        "                       ).reset_index(drop=True)\n",
        "sdi_nov.columns = ['Judul','Label']\n",
        "\n",
        "sdi_des = extract_from_sdi(url[9]).drop([0])\n",
        "sdi_des = sdi_des.drop(columns=['RANGKUMAN BERITA HOAX BULAN DESEMBER 2018',\n",
        "                                'Unnamed: 2',\n",
        "                                'Unnamed: 4',\n",
        "                                'Unnamed: 5']\n",
        "                       ).reset_index(drop=True)\n",
        "sdi_des.columns = ['Judul','Label']"
      ],
      "execution_count": null,
      "outputs": []
    },
    {
      "cell_type": "markdown",
      "metadata": {
        "id": "v6EQFBaPMWiu"
      },
      "source": [
        "Menggabungkan semua data yang telah diekstrak dan menjadikannya sebuah DataFrame df."
      ]
    },
    {
      "cell_type": "code",
      "metadata": {
        "id": "mAKaqNG0hB6j"
      },
      "source": [
        "sdi = [sdi_jan, sdi_feb, sdi_mar, sdi_apr, sdi_mei, sdi_jun, sdi_jul, sdi_agt, sdi_nov, sdi_des]\n",
        "\n",
        "df = sdi[0].append(sdi[1])\n",
        "i = 2\n",
        "while i < len(sdi):\n",
        "  df = df.append(sdi[i])\n",
        "  i += 1\n",
        "\n",
        "#df.sample(10)"
      ],
      "execution_count": null,
      "outputs": []
    },
    {
      "cell_type": "markdown",
      "metadata": {
        "id": "dBRPdBLtMegx"
      },
      "source": [
        "Mendapatkan ukuran dari DataFrame."
      ]
    },
    {
      "cell_type": "code",
      "metadata": {
        "colab": {
          "base_uri": "https://localhost:8080/"
        },
        "id": "L7_LfTcMjfMV",
        "outputId": "982a077f-d854-4b5e-8ed9-b793f8e7d67f"
      },
      "source": [
        "df.shape"
      ],
      "execution_count": null,
      "outputs": [
        {
          "output_type": "execute_result",
          "data": {
            "text/plain": [
              "(1018, 2)"
            ]
          },
          "metadata": {
            "tags": []
          },
          "execution_count": 6
        }
      ]
    },
    {
      "cell_type": "markdown",
      "metadata": {
        "id": "ZZXcG1PdMkDe"
      },
      "source": [
        "Mengecek apakah ada sel kosong dalam kolom **Judul**."
      ]
    },
    {
      "cell_type": "code",
      "metadata": {
        "colab": {
          "base_uri": "https://localhost:8080/"
        },
        "id": "fgvUiQ4mjLGk",
        "outputId": "39b62d4b-7289-4115-ce2d-423c989bdefc"
      },
      "source": [
        "df['Judul'].isnull().any()"
      ],
      "execution_count": null,
      "outputs": [
        {
          "output_type": "execute_result",
          "data": {
            "text/plain": [
              "False"
            ]
          },
          "metadata": {
            "tags": []
          },
          "execution_count": 7
        }
      ]
    },
    {
      "cell_type": "markdown",
      "metadata": {
        "id": "dEe04JcrMqfr"
      },
      "source": [
        "Mengecek apakah ada sel kosong dalam kolom **Label**."
      ]
    },
    {
      "cell_type": "code",
      "metadata": {
        "colab": {
          "base_uri": "https://localhost:8080/"
        },
        "id": "M9X-RUbhjS1h",
        "outputId": "8a30005b-2f39-44de-e95d-bbe693da4c4a"
      },
      "source": [
        "df['Label'].isnull().any()"
      ],
      "execution_count": null,
      "outputs": [
        {
          "output_type": "execute_result",
          "data": {
            "text/plain": [
              "False"
            ]
          },
          "metadata": {
            "tags": []
          },
          "execution_count": 8
        }
      ]
    },
    {
      "cell_type": "markdown",
      "metadata": {
        "id": "eCAIg_7oMwN4"
      },
      "source": [
        "Mengecek label yang diberikan pada data. Kemudian mencetak label-label yang tersedia."
      ]
    },
    {
      "cell_type": "code",
      "metadata": {
        "colab": {
          "base_uri": "https://localhost:8080/"
        },
        "id": "Lha_HMjuhU8r",
        "outputId": "253dbda6-7bde-426b-b380-59a491c5265b"
      },
      "source": [
        "df['Label'].unique().size"
      ],
      "execution_count": null,
      "outputs": [
        {
          "output_type": "execute_result",
          "data": {
            "text/plain": [
              "4"
            ]
          },
          "metadata": {
            "tags": []
          },
          "execution_count": 9
        }
      ]
    },
    {
      "cell_type": "code",
      "metadata": {
        "colab": {
          "base_uri": "https://localhost:8080/"
        },
        "id": "YAF0sySYiaeD",
        "outputId": "28fa35f8-49c1-4cf9-a67b-68ddba6a7354"
      },
      "source": [
        "for label in sorted(df['Label'].unique()):\n",
        "  print(label)"
      ],
      "execution_count": null,
      "outputs": [
        {
          "output_type": "stream",
          "text": [
            "BENAR\n",
            "BERITA\n",
            "HOAKS\n",
            "HOAX\n"
          ],
          "name": "stdout"
        }
      ]
    },
    {
      "cell_type": "markdown",
      "metadata": {
        "id": "ZMtUQMxVNYg3"
      },
      "source": [
        "Mengkonsistenkan pemberian label dimana **HOAKS** diubah menjadi **HOAX**.\n",
        "\n",
        "Kemudian menghapus baris yang memiliki label **BERITA**. Penghapusan dilakukan karena label tersebut tidak memberikan keterangan dengan jelas apakah judul berita tersebut hoax atau bukan. Diperlukan pengecekkan secara manual dan akan memakan waktu yang cukup lama."
      ]
    },
    {
      "cell_type": "code",
      "metadata": {
        "colab": {
          "base_uri": "https://localhost:8080/"
        },
        "id": "zpkyCtS_imm5",
        "outputId": "fcae3f4c-2006-4d09-c32b-c40fcf286c40"
      },
      "source": [
        "df.loc[df['Label'] == 'HOAKS', \n",
        "       'Label'] = 'HOAX'\n",
        "\n",
        "df = df.drop(df[df['Label'] == 'BERITA'].index)\n",
        "\n",
        "for label in sorted(df['Label'].unique()):\n",
        "  print(label)"
      ],
      "execution_count": null,
      "outputs": [
        {
          "output_type": "stream",
          "text": [
            "BENAR\n",
            "HOAX\n"
          ],
          "name": "stdout"
        }
      ]
    },
    {
      "cell_type": "markdown",
      "metadata": {
        "id": "2Z429pnaN0gb"
      },
      "source": [
        "Mengecek bagaimana keseimbangan label dalam dataset menggunakan _bar chart_."
      ]
    },
    {
      "cell_type": "code",
      "metadata": {
        "colab": {
          "base_uri": "https://localhost:8080/",
          "height": 321
        },
        "id": "_GQWV8GNkU0v",
        "outputId": "e2bb90f0-8881-41cf-8f4f-6eb685249244"
      },
      "source": [
        "label_dict = {}\n",
        "for label in sorted(df['Label']):\n",
        "  if label not in label_dict:\n",
        "    label_dict[label] = 0\n",
        "  label_dict[label] += 1\n",
        "\n",
        "label_df = pd.DataFrame(label_dict.items(), columns=['Label', 'Count'])\n",
        "label_df.plot.bar('Label', 'Count')"
      ],
      "execution_count": null,
      "outputs": [
        {
          "output_type": "execute_result",
          "data": {
            "text/plain": [
              "<matplotlib.axes._subplots.AxesSubplot at 0x7f2fd044be90>"
            ]
          },
          "metadata": {
            "tags": []
          },
          "execution_count": 12
        },
        {
          "output_type": "display_data",
          "data": {
            "image/png": "[encoded data removed]",
            "text/plain": [
              "<Figure size 432x288 with 1 Axes>"
            ]
          },
          "metadata": {
            "tags": [],
            "needs_background": "light"
          }
        }
      ]
    },
    {
      "cell_type": "markdown",
      "metadata": {
        "id": "13xRkY4bONHt"
      },
      "source": [
        "_Bar chart_ di atas memberikan informasi bahwa terdapat masalah _Imbalance Class_ dimana kelas dengan label **HOAX** memiliki jumlah yang jauh lebih banyak dibandingkan dengan label **BENAR**. Hal ini akan membuat model _machine learning_ yang akan dibuat cenderung mengklasifikasikan ke dalam kelas **HOAX**.\n",
        "\n",
        "Untuk mengatasi masalah ini akan dilakukan penambahan jumlah dataset dengan label **BENAR** dengan cara melakukan _scraping_ pada website [turnbackhoax](https://turnbackhoax.com) dan mencari berita dengan label **BENAR**."
      ]
    },
    {
      "cell_type": "markdown",
      "metadata": {
        "id": "Wxt6wJEd9GLI"
      },
      "source": [
        "## TurnBackHoax"
      ]
    },
    {
      "cell_type": "markdown",
      "metadata": {
        "id": "2hVXvMxrgCus"
      },
      "source": [
        "Melakukan akuisisi data kembali dengan melakukan _scraping_ dari [turnbackhoax](https://turnbackhoax.id)"
      ]
    },
    {
      "cell_type": "markdown",
      "metadata": {
        "id": "gvoyuWHbgQUZ"
      },
      "source": [
        "Melakukan import library yang dibutuhkan"
      ]
    },
    {
      "cell_type": "code",
      "metadata": {
        "id": "wEBhf1Fwlq_B"
      },
      "source": [
        "import requests\n",
        "from bs4 import BeautifulSoup\n",
        "import pandas as pd"
      ],
      "execution_count": null,
      "outputs": []
    },
    {
      "cell_type": "markdown",
      "metadata": {
        "id": "dzfRgs68gYa2"
      },
      "source": [
        "Membuat list berisi link yang akan dijadikan tujuan _scraping_."
      ]
    },
    {
      "cell_type": "code",
      "metadata": {
        "id": "f3rgaF-Ie3uQ"
      },
      "source": [
        "url2 = ['https://turnbackhoax.id/?s=%5Bbenar%5D']\n",
        "i = 2\n",
        "while i < 20:\n",
        "  url2.append('https://turnbackhoax.id/page/{}/?s=%5Bbenar%5D'.format(i))\n",
        "  i+=1\n",
        "\n",
        "#url2"
      ],
      "execution_count": null,
      "outputs": []
    },
    {
      "cell_type": "markdown",
      "metadata": {
        "id": "UFznIeFYgv8F"
      },
      "source": [
        "Mengambil bagian yang dibutuhkan dari website turnbackhoax. Dalam hal ini adalah headline dari berita dengan label BENAR. Label HOAX tidak diambil karena label BENAR merupakan kelas minor dalam kasus ini. Bagian dari website yang akan diambil memakai tag \\<a>."
      ]
    },
    {
      "cell_type": "code",
      "metadata": {
        "id": "cnkViY-r-Vy1"
      },
      "source": [
        "session = requests.Session()\n",
        "links = []\n",
        "\n",
        "for u2 in url2:\n",
        "  res = session.get(u2)\n",
        "  soup = BeautifulSoup(res.content)\n",
        "  for a in soup.find_all('a', {'rel': 'bookmark'}):\n",
        "    # print(a)\n",
        "    links.append(a.get_text().strip())\n",
        "\n",
        "#links"
      ],
      "execution_count": null,
      "outputs": []
    },
    {
      "cell_type": "markdown",
      "metadata": {
        "id": "JMEZsaw9hPoZ"
      },
      "source": [
        "Mengecek jumlah judul berita berlabel BENAR yang didapatkan dari proses _scraping_."
      ]
    },
    {
      "cell_type": "code",
      "metadata": {
        "colab": {
          "base_uri": "https://localhost:8080/"
        },
        "id": "M8v9KEpV_MiB",
        "outputId": "3b1bd45a-aee3-4ff7-fc38-783c332cf69e"
      },
      "source": [
        "len(links)"
      ],
      "execution_count": null,
      "outputs": [
        {
          "output_type": "execute_result",
          "data": {
            "text/plain": [
              "380"
            ]
          },
          "metadata": {
            "tags": []
          },
          "execution_count": 17
        }
      ]
    },
    {
      "cell_type": "markdown",
      "metadata": {
        "id": "XbegZKUohbbz"
      },
      "source": [
        "Menghapus tulisan '[BENAR]' dalam setiap judul berita karena tulisan tersebut tidak termasuk ke dalam bagian judul."
      ]
    },
    {
      "cell_type": "code",
      "metadata": {
        "id": "qUDy_2-TCba_"
      },
      "source": [
        "to_appends = []\n",
        "for link in links:\n",
        "  to_append = link.replace('[BENAR]', '')\n",
        "  to_appends.append(to_append)\n",
        "\n",
        "#to_appends"
      ],
      "execution_count": null,
      "outputs": []
    },
    {
      "cell_type": "markdown",
      "metadata": {
        "id": "vBEP-cZShst8"
      },
      "source": [
        "Membuat DataFrame baru dengan nama to_append_df yang berisi judul berita hasil scraping dengan label BENAR."
      ]
    },
    {
      "cell_type": "code",
      "metadata": {
        "colab": {
          "base_uri": "https://localhost:8080/",
          "height": 206
        },
        "id": "9JPNfPyGCxEM",
        "outputId": "473b2cc6-d383-4b18-e6bc-bd9a4cd2f11e"
      },
      "source": [
        "to_appends_df = pd.DataFrame(to_appends, columns=['Judul'])\n",
        "to_appends_df['Label'] = 'BENAR'\n",
        "to_appends_df.head()"
      ],
      "execution_count": null,
      "outputs": [
        {
          "output_type": "execute_result",
          "data": {
            "text/html": [
              "<div>\n",
              "<style scoped>\n",
              "    .dataframe tbody tr th:only-of-type {\n",
              "        vertical-align: middle;\n",
              "    }\n",
              "\n",
              "    .dataframe tbody tr th {\n",
              "        vertical-align: top;\n",
              "    }\n",
              "\n",
              "    .dataframe thead th {\n",
              "        text-align: right;\n",
              "    }\n",
              "</style>\n",
              "<table border=\"1\" class=\"dataframe\">\n",
              "  <thead>\n",
              "    <tr style=\"text-align: right;\">\n",
              "      <th></th>\n",
              "      <th>Judul</th>\n",
              "      <th>Label</th>\n",
              "    </tr>\n",
              "  </thead>\n",
              "  <tbody>\n",
              "    <tr>\n",
              "      <th>0</th>\n",
              "      <td>Bahaya Daging Kurban Dibungkus Kresek Hitam</td>\n",
              "      <td>BENAR</td>\n",
              "    </tr>\n",
              "    <tr>\n",
              "      <th>1</th>\n",
              "      <td>SPP SMA/SMK GRATIS JAWA TIMUR</td>\n",
              "      <td>BENAR</td>\n",
              "    </tr>\n",
              "    <tr>\n",
              "      <th>2</th>\n",
              "      <td>Klarifikasi BIN terkait Pesan Berantai yang S...</td>\n",
              "      <td>BENAR</td>\n",
              "    </tr>\n",
              "    <tr>\n",
              "      <th>3</th>\n",
              "      <td>Dianggap Lecehkan Guru, Iklan Hago Diprotes</td>\n",
              "      <td>BENAR</td>\n",
              "    </tr>\n",
              "    <tr>\n",
              "      <th>4</th>\n",
              "      <td>Klarifikasi “#SOSDrJohnSimpsonForIndonesia”</td>\n",
              "      <td>BENAR</td>\n",
              "    </tr>\n",
              "  </tbody>\n",
              "</table>\n",
              "</div>"
            ],
            "text/plain": [
              "                                               Judul  Label\n",
              "0        Bahaya Daging Kurban Dibungkus Kresek Hitam  BENAR\n",
              "1                      SPP SMA/SMK GRATIS JAWA TIMUR  BENAR\n",
              "2   Klarifikasi BIN terkait Pesan Berantai yang S...  BENAR\n",
              "3        Dianggap Lecehkan Guru, Iklan Hago Diprotes  BENAR\n",
              "4        Klarifikasi “#SOSDrJohnSimpsonForIndonesia”  BENAR"
            ]
          },
          "metadata": {
            "tags": []
          },
          "execution_count": 20
        }
      ]
    },
    {
      "cell_type": "markdown",
      "metadata": {
        "id": "UpWsq5J-mjAw"
      },
      "source": [
        "Mengecek terlebih dahulu apakah ada sel kosong dalam kolom **Judul** sebelum nanti akan digabungkan."
      ]
    },
    {
      "cell_type": "code",
      "metadata": {
        "colab": {
          "base_uri": "https://localhost:8080/"
        },
        "id": "bpDXCudCmj3B",
        "outputId": "a4d0283a-9bfa-469f-9a25-2ad266b0c435"
      },
      "source": [
        "to_appends_df['Judul'].isnull().any()"
      ],
      "execution_count": null,
      "outputs": [
        {
          "output_type": "execute_result",
          "data": {
            "text/plain": [
              "False"
            ]
          },
          "metadata": {
            "tags": []
          },
          "execution_count": 22
        }
      ]
    },
    {
      "cell_type": "markdown",
      "metadata": {
        "id": "CylEmdpUmzPw"
      },
      "source": [
        "Mengecek terlebih dahulu apakah ada sel kosong dalam kolom **Label** sebelum nanti akan digabungkan."
      ]
    },
    {
      "cell_type": "code",
      "metadata": {
        "colab": {
          "base_uri": "https://localhost:8080/"
        },
        "id": "8VkZMwPjmweK",
        "outputId": "437e9041-baee-46e1-ff07-36eeebfc2a09"
      },
      "source": [
        "to_appends_df['Label'].isnull().any()"
      ],
      "execution_count": null,
      "outputs": [
        {
          "output_type": "execute_result",
          "data": {
            "text/plain": [
              "False"
            ]
          },
          "metadata": {
            "tags": []
          },
          "execution_count": 23
        }
      ]
    },
    {
      "cell_type": "markdown",
      "metadata": {
        "id": "khKIQiqMh-kE"
      },
      "source": [
        "Menggabungkan DataFrame yang telah didapatkan sebelumnya (dataset_df) dengan DataFrame baru."
      ]
    },
    {
      "cell_type": "code",
      "metadata": {
        "id": "gyNoQZ5zEUJ3"
      },
      "source": [
        "dataset_df = df.append(to_appends_df)\n",
        "\n",
        "dataset_df.reset_index(inplace=True, drop=True)\n",
        "#dataset_df"
      ],
      "execution_count": null,
      "outputs": []
    },
    {
      "cell_type": "markdown",
      "metadata": {
        "id": "7lgiZcwziF9i"
      },
      "source": [
        "Mengecek kembali bagaimana keseimbangan label dalam dataset menggunakan _bar chart_."
      ]
    },
    {
      "cell_type": "code",
      "metadata": {
        "colab": {
          "base_uri": "https://localhost:8080/",
          "height": 321
        },
        "id": "9xJAOVBtFruX",
        "outputId": "ee494296-c377-4c04-8b75-3ab6850e8331"
      },
      "source": [
        "label_dict = {}\n",
        "for label in sorted(dataset_df['Label']):\n",
        "  if label not in label_dict:\n",
        "    label_dict[label] = 0\n",
        "  label_dict[label] += 1\n",
        "\n",
        "label_df = pd.DataFrame(label_dict.items(), columns=['Label', 'Count'])\n",
        "#label_df.sort_values(by='Count', ascending=False).head()\n",
        "label_df.plot.bar('Label', 'Count')"
      ],
      "execution_count": null,
      "outputs": [
        {
          "output_type": "execute_result",
          "data": {
            "text/plain": [
              "<matplotlib.axes._subplots.AxesSubplot at 0x7f2fce374190>"
            ]
          },
          "metadata": {
            "tags": []
          },
          "execution_count": 25
        },
        {
          "output_type": "display_data",
          "data": {
            "image/png": "[encoded data removed]",
            "text/plain": [
              "<Figure size 432x288 with 1 Axes>"
            ]
          },
          "metadata": {
            "tags": [],
            "needs_background": "light"
          }
        }
      ]
    },
    {
      "cell_type": "markdown",
      "metadata": {
        "id": "CKYvCK-Fm9vv"
      },
      "source": [
        "Bar chart di atas memberikan informasi bahwa masalah _Imbalance Class_ sudah teratasi. Namun, jumlah data perlu ditambah lagi dengan harapan dapat meningkatkan kinerja model."
      ]
    },
    {
      "cell_type": "markdown",
      "metadata": {
        "id": "4OadfapzjNBt"
      },
      "source": [
        "## Kaggle (efradgamer/fixed-bdc)"
      ]
    },
    {
      "cell_type": "markdown",
      "metadata": {
        "id": "4iTpCFO-jVtA"
      },
      "source": [
        "Melakukan akuisisi data kembali dengan mendownload dari kaggle (efradgamer/fixed-bdc). Upload kaggle.json terlebih dahulu."
      ]
    },
    {
      "cell_type": "code",
      "metadata": {
        "colab": {
          "base_uri": "https://localhost:8080/"
        },
        "id": "6m59XkD58meZ",
        "outputId": "b1b3ae55-b47e-4032-af06-3075291feb72"
      },
      "source": [
        "! chmod 600 kaggle.json && (ls ~/.kaggle 2>/dev/null || mkdir ~/.kaggle) && mv kaggle.json ~/.kaggle/ && echo 'Done'"
      ],
      "execution_count": null,
      "outputs": [
        {
          "output_type": "stream",
          "text": [
            "Done\n"
          ],
          "name": "stdout"
        }
      ]
    },
    {
      "cell_type": "code",
      "metadata": {
        "colab": {
          "base_uri": "https://localhost:8080/"
        },
        "id": "t3mtUW0v9hTB",
        "outputId": "0f910e5b-a736-4876-b62a-297be81370dc"
      },
      "source": [
        "! kaggle datasets download efradgamer/fixed-bdc\n",
        "! ls"
      ],
      "execution_count": null,
      "outputs": [
        {
          "output_type": "stream",
          "text": [
            "Downloading fixed-bdc.zip to /content\n",
            " 99% 1.01G/1.02G [00:08<00:00, 154MB/s]\n",
            "100% 1.02G/1.02G [00:09<00:00, 120MB/s]\n",
            "fixed-bdc.zip  sample_data\n"
          ],
          "name": "stdout"
        }
      ]
    },
    {
      "cell_type": "markdown",
      "metadata": {
        "id": "2nSXrArUjmZN"
      },
      "source": [
        "Melakukan import library yang dibutuhkan."
      ]
    },
    {
      "cell_type": "code",
      "metadata": {
        "id": "xH0oMIn59m-k"
      },
      "source": [
        "import pandas as pd\n",
        "import zipfile"
      ],
      "execution_count": null,
      "outputs": []
    },
    {
      "cell_type": "markdown",
      "metadata": {
        "id": "tEZ_taMEjptE"
      },
      "source": [
        "unzip berkas yang telah didownload."
      ]
    },
    {
      "cell_type": "code",
      "metadata": {
        "id": "dVaosUqD98HC"
      },
      "source": [
        "src_zipfile = '/content/fixed-bdc.zip'\n",
        "zip_file = zipfile.ZipFile(src_zipfile, 'r')\n",
        "zip_file.extractall('/content')\n",
        "zip_file.close()"
      ],
      "execution_count": null,
      "outputs": []
    },
    {
      "cell_type": "markdown",
      "metadata": {
        "id": "Wf9hARg-js8G"
      },
      "source": [
        "Melakukan ekstraksi dari berkas yang telah didownload. Kemudian menghapus kolom-kolom yang tidak dibutuhkan."
      ]
    },
    {
      "cell_type": "code",
      "metadata": {
        "id": "fGqfxwYI-qQO",
        "colab": {
          "base_uri": "https://localhost:8080/",
          "height": 206
        },
        "outputId": "4521ac18-ac9c-4044-b0dd-268ba79f4217"
      },
      "source": [
        "dataset_df_new = pd.read_excel('Data BDC - Satria Data 2020/Data Latih/Data Latih BDC.xlsx')\n",
        "dataset_df_new = dataset_df_new.drop(columns=['ID',\n",
        "                                              'tanggal',\n",
        "                                              'narasi',\n",
        "                                              'nama file gambar']\n",
        "                       ).reset_index(drop=True)\n",
        "dataset_df_new.head()"
      ],
      "execution_count": null,
      "outputs": [
        {
          "output_type": "execute_result",
          "data": {
            "text/html": [
              "<div>\n",
              "<style scoped>\n",
              "    .dataframe tbody tr th:only-of-type {\n",
              "        vertical-align: middle;\n",
              "    }\n",
              "\n",
              "    .dataframe tbody tr th {\n",
              "        vertical-align: top;\n",
              "    }\n",
              "\n",
              "    .dataframe thead th {\n",
              "        text-align: right;\n",
              "    }\n",
              "</style>\n",
              "<table border=\"1\" class=\"dataframe\">\n",
              "  <thead>\n",
              "    <tr style=\"text-align: right;\">\n",
              "      <th></th>\n",
              "      <th>label</th>\n",
              "      <th>judul</th>\n",
              "    </tr>\n",
              "  </thead>\n",
              "  <tbody>\n",
              "    <tr>\n",
              "      <th>0</th>\n",
              "      <td>1</td>\n",
              "      <td>Pemakaian Masker Menyebabkan Penyakit Legionna...</td>\n",
              "    </tr>\n",
              "    <tr>\n",
              "      <th>1</th>\n",
              "      <td>1</td>\n",
              "      <td>Instruksi Gubernur Jateng tentang penilangan  ...</td>\n",
              "    </tr>\n",
              "    <tr>\n",
              "      <th>2</th>\n",
              "      <td>1</td>\n",
              "      <td>Foto Jim Rohn: Jokowi adalah presiden terbaik ...</td>\n",
              "    </tr>\n",
              "    <tr>\n",
              "      <th>3</th>\n",
              "      <td>1</td>\n",
              "      <td>ini bukan politik, tapi kenyataan Pak Jokowi b...</td>\n",
              "    </tr>\n",
              "    <tr>\n",
              "      <th>4</th>\n",
              "      <td>1</td>\n",
              "      <td>Foto Kadrun kalo lihat foto ini panas dingin</td>\n",
              "    </tr>\n",
              "  </tbody>\n",
              "</table>\n",
              "</div>"
            ],
            "text/plain": [
              "   label                                              judul\n",
              "0      1  Pemakaian Masker Menyebabkan Penyakit Legionna...\n",
              "1      1  Instruksi Gubernur Jateng tentang penilangan  ...\n",
              "2      1  Foto Jim Rohn: Jokowi adalah presiden terbaik ...\n",
              "3      1  ini bukan politik, tapi kenyataan Pak Jokowi b...\n",
              "4      1       Foto Kadrun kalo lihat foto ini panas dingin"
            ]
          },
          "metadata": {
            "tags": []
          },
          "execution_count": 33
        }
      ]
    },
    {
      "cell_type": "markdown",
      "metadata": {
        "id": "je25feT3np3n"
      },
      "source": [
        "Memperbaiki nama kolom sehingga seragam dengan DataFrame yang telah ada."
      ]
    },
    {
      "cell_type": "code",
      "metadata": {
        "colab": {
          "base_uri": "https://localhost:8080/",
          "height": 206
        },
        "id": "XI54X3qO-03S",
        "outputId": "ae077ffd-8616-48cb-eaaa-6f855208df27"
      },
      "source": [
        "dataset_df_new.columns = ['Label', 'Judul']\n",
        "dataset_df_new.head()"
      ],
      "execution_count": null,
      "outputs": [
        {
          "output_type": "execute_result",
          "data": {
            "text/html": [
              "<div>\n",
              "<style scoped>\n",
              "    .dataframe tbody tr th:only-of-type {\n",
              "        vertical-align: middle;\n",
              "    }\n",
              "\n",
              "    .dataframe tbody tr th {\n",
              "        vertical-align: top;\n",
              "    }\n",
              "\n",
              "    .dataframe thead th {\n",
              "        text-align: right;\n",
              "    }\n",
              "</style>\n",
              "<table border=\"1\" class=\"dataframe\">\n",
              "  <thead>\n",
              "    <tr style=\"text-align: right;\">\n",
              "      <th></th>\n",
              "      <th>Label</th>\n",
              "      <th>Judul</th>\n",
              "    </tr>\n",
              "  </thead>\n",
              "  <tbody>\n",
              "    <tr>\n",
              "      <th>0</th>\n",
              "      <td>1</td>\n",
              "      <td>Pemakaian Masker Menyebabkan Penyakit Legionna...</td>\n",
              "    </tr>\n",
              "    <tr>\n",
              "      <th>1</th>\n",
              "      <td>1</td>\n",
              "      <td>Instruksi Gubernur Jateng tentang penilangan  ...</td>\n",
              "    </tr>\n",
              "    <tr>\n",
              "      <th>2</th>\n",
              "      <td>1</td>\n",
              "      <td>Foto Jim Rohn: Jokowi adalah presiden terbaik ...</td>\n",
              "    </tr>\n",
              "    <tr>\n",
              "      <th>3</th>\n",
              "      <td>1</td>\n",
              "      <td>ini bukan politik, tapi kenyataan Pak Jokowi b...</td>\n",
              "    </tr>\n",
              "    <tr>\n",
              "      <th>4</th>\n",
              "      <td>1</td>\n",
              "      <td>Foto Kadrun kalo lihat foto ini panas dingin</td>\n",
              "    </tr>\n",
              "  </tbody>\n",
              "</table>\n",
              "</div>"
            ],
            "text/plain": [
              "   Label                                              Judul\n",
              "0      1  Pemakaian Masker Menyebabkan Penyakit Legionna...\n",
              "1      1  Instruksi Gubernur Jateng tentang penilangan  ...\n",
              "2      1  Foto Jim Rohn: Jokowi adalah presiden terbaik ...\n",
              "3      1  ini bukan politik, tapi kenyataan Pak Jokowi b...\n",
              "4      1       Foto Kadrun kalo lihat foto ini panas dingin"
            ]
          },
          "metadata": {
            "tags": []
          },
          "execution_count": 34
        }
      ]
    },
    {
      "cell_type": "markdown",
      "metadata": {
        "id": "A6Pdy-5tkC7T"
      },
      "source": [
        "Melakukan penyesuaian letak kolom agar sama dengan posisi kolom DataFrame yang telah ada sebelumnya. DataFrame dataset_df_new memiliki label 1 dan 0 sedangkan DataFrame dataset_df memiliki label HOAX dan BENAR. Maka perlu dilakukan penyeragaman yaitu dengan melakukan _one hot encoding_, yaitu menjadikan label HOAX = 1 dan label BENAR = 0. Proses ini akan dilakukan kemudian."
      ]
    },
    {
      "cell_type": "code",
      "metadata": {
        "colab": {
          "base_uri": "https://localhost:8080/",
          "height": 206
        },
        "id": "G_83_zPGAaOp",
        "outputId": "84ae1bf1-b2d0-4d8d-9920-41d36b8fec29"
      },
      "source": [
        "dataset_df_new = dataset_df_new[['Judul', 'Label']]\n",
        "dataset_df_new.tail()"
      ],
      "execution_count": null,
      "outputs": [
        {
          "output_type": "execute_result",
          "data": {
            "text/html": [
              "<div>\n",
              "<style scoped>\n",
              "    .dataframe tbody tr th:only-of-type {\n",
              "        vertical-align: middle;\n",
              "    }\n",
              "\n",
              "    .dataframe tbody tr th {\n",
              "        vertical-align: top;\n",
              "    }\n",
              "\n",
              "    .dataframe thead th {\n",
              "        text-align: right;\n",
              "    }\n",
              "</style>\n",
              "<table border=\"1\" class=\"dataframe\">\n",
              "  <thead>\n",
              "    <tr style=\"text-align: right;\">\n",
              "      <th></th>\n",
              "      <th>Judul</th>\n",
              "      <th>Label</th>\n",
              "    </tr>\n",
              "  </thead>\n",
              "  <tbody>\n",
              "    <tr>\n",
              "      <th>4226</th>\n",
              "      <td>: KPK Dilarang Membawa Brimob Bersenjata Masuk...</td>\n",
              "      <td>1</td>\n",
              "    </tr>\n",
              "    <tr>\n",
              "      <th>4227</th>\n",
              "      <td>Foto pejabat keuangan dibawah palu arit</td>\n",
              "      <td>1</td>\n",
              "    </tr>\n",
              "    <tr>\n",
              "      <th>4228</th>\n",
              "      <td>Gambar Denny Siregar Musuh Warga Tasikmalaya d...</td>\n",
              "      <td>1</td>\n",
              "    </tr>\n",
              "    <tr>\n",
              "      <th>4229</th>\n",
              "      <td>Kaesang: Bapak Saya dengan Kesederhaan Bisa Ni...</td>\n",
              "      <td>1</td>\n",
              "    </tr>\n",
              "    <tr>\n",
              "      <th>4230</th>\n",
              "      <td>Laser dari termometer gun akan merusak struktu...</td>\n",
              "      <td>1</td>\n",
              "    </tr>\n",
              "  </tbody>\n",
              "</table>\n",
              "</div>"
            ],
            "text/plain": [
              "                                                  Judul  Label\n",
              "4226  : KPK Dilarang Membawa Brimob Bersenjata Masuk...      1\n",
              "4227            Foto pejabat keuangan dibawah palu arit      1\n",
              "4228  Gambar Denny Siregar Musuh Warga Tasikmalaya d...      1\n",
              "4229  Kaesang: Bapak Saya dengan Kesederhaan Bisa Ni...      1\n",
              "4230  Laser dari termometer gun akan merusak struktu...      1"
            ]
          },
          "metadata": {
            "tags": []
          },
          "execution_count": 35
        }
      ]
    },
    {
      "cell_type": "markdown",
      "metadata": {
        "id": "gfWoyzKBkqDN"
      },
      "source": [
        "Mengecek keseimbangan label dalam data dataset_df_new."
      ]
    },
    {
      "cell_type": "code",
      "metadata": {
        "colab": {
          "base_uri": "https://localhost:8080/",
          "height": 112
        },
        "id": "NIOM5qacAwQd",
        "outputId": "ee6be1c5-9b68-4257-da28-1782064da96d"
      },
      "source": [
        "label_dict = {}\n",
        "for label in sorted(dataset_df_new['Label']):\n",
        "  if label not in label_dict:\n",
        "    label_dict[label] = 0\n",
        "  label_dict[label] += 1\n",
        "\n",
        "label_df = pd.DataFrame(label_dict.items(), columns=['Label', 'Count'])\n",
        "label_df.sort_values(by='Count', ascending=False).head()\n",
        "#label_df.plot.bar('Label', 'Count')"
      ],
      "execution_count": null,
      "outputs": [
        {
          "output_type": "execute_result",
          "data": {
            "text/html": [
              "<div>\n",
              "<style scoped>\n",
              "    .dataframe tbody tr th:only-of-type {\n",
              "        vertical-align: middle;\n",
              "    }\n",
              "\n",
              "    .dataframe tbody tr th {\n",
              "        vertical-align: top;\n",
              "    }\n",
              "\n",
              "    .dataframe thead th {\n",
              "        text-align: right;\n",
              "    }\n",
              "</style>\n",
              "<table border=\"1\" class=\"dataframe\">\n",
              "  <thead>\n",
              "    <tr style=\"text-align: right;\">\n",
              "      <th></th>\n",
              "      <th>Label</th>\n",
              "      <th>Count</th>\n",
              "    </tr>\n",
              "  </thead>\n",
              "  <tbody>\n",
              "    <tr>\n",
              "      <th>1</th>\n",
              "      <td>1</td>\n",
              "      <td>3465</td>\n",
              "    </tr>\n",
              "    <tr>\n",
              "      <th>0</th>\n",
              "      <td>0</td>\n",
              "      <td>766</td>\n",
              "    </tr>\n",
              "  </tbody>\n",
              "</table>\n",
              "</div>"
            ],
            "text/plain": [
              "   Label  Count\n",
              "1      1   3465\n",
              "0      0    766"
            ]
          },
          "metadata": {
            "tags": []
          },
          "execution_count": 36
        }
      ]
    },
    {
      "cell_type": "markdown",
      "metadata": {
        "id": "9tNSQ_iXk69G"
      },
      "source": [
        "Terlihat bahwa label 1 (HOAX) memiliki jumlah yang jauh lebih banyak daripada label 0 (BENAR). Jika DataFrame dataset_df_new ini langsung digabungkan dengan dataset_df, maka akan menimbulkan _imbalance class_ lagi. Solusi dari masalah ini adalah dengan melakukan _undersampling_ pada dataset_df_new sehingga jumlah label 1 akan sama dengan jumlah label 0."
      ]
    },
    {
      "cell_type": "markdown",
      "metadata": {
        "id": "WMfKe1zkn2gi"
      },
      "source": [
        "Membuat fungsi undersampling."
      ]
    },
    {
      "cell_type": "code",
      "metadata": {
        "id": "lk1l_5UwCxUM"
      },
      "source": [
        "def under_sampling(df, label):\n",
        "  nmin = df[label].value_counts().min()\n",
        "  df = df.groupby(label)\n",
        "  df = df.apply(lambda x:x.sample(nmin))\n",
        "  df = df.reset_index(drop=True)\n",
        "\n",
        "  return df"
      ],
      "execution_count": null,
      "outputs": []
    },
    {
      "cell_type": "markdown",
      "metadata": {
        "id": "nI5pnYJZn9Cu"
      },
      "source": [
        "Mengaplikasikan fungsi undersampling kepada DataFrame dataset_df_new."
      ]
    },
    {
      "cell_type": "code",
      "metadata": {
        "id": "H1To5_i2ELiB"
      },
      "source": [
        "dataset_df_new_under = under_sampling(dataset_df_new, 'Label')"
      ],
      "execution_count": null,
      "outputs": []
    },
    {
      "cell_type": "markdown",
      "metadata": {
        "id": "tYmEX2ZVoDYq"
      },
      "source": [
        "Mengecek kembali keseimbangan label dalam data."
      ]
    },
    {
      "cell_type": "code",
      "metadata": {
        "colab": {
          "base_uri": "https://localhost:8080/",
          "height": 112
        },
        "id": "4FVGwLUWF094",
        "outputId": "6f21994c-f612-4314-c2e5-cd7caf6c48dd"
      },
      "source": [
        "label_dict = {}\n",
        "for label in sorted(dataset_df_new_under['Label']):\n",
        "  if label not in label_dict:\n",
        "    label_dict[label] = 0\n",
        "  label_dict[label] += 1\n",
        "\n",
        "label_df = pd.DataFrame(label_dict.items(), columns=['Label', 'Count'])\n",
        "label_df.sort_values(by='Count', ascending=False).head()\n",
        "#label_df.plot.bar('Label', 'Count')"
      ],
      "execution_count": null,
      "outputs": [
        {
          "output_type": "execute_result",
          "data": {
            "text/html": [
              "<div>\n",
              "<style scoped>\n",
              "    .dataframe tbody tr th:only-of-type {\n",
              "        vertical-align: middle;\n",
              "    }\n",
              "\n",
              "    .dataframe tbody tr th {\n",
              "        vertical-align: top;\n",
              "    }\n",
              "\n",
              "    .dataframe thead th {\n",
              "        text-align: right;\n",
              "    }\n",
              "</style>\n",
              "<table border=\"1\" class=\"dataframe\">\n",
              "  <thead>\n",
              "    <tr style=\"text-align: right;\">\n",
              "      <th></th>\n",
              "      <th>Label</th>\n",
              "      <th>Count</th>\n",
              "    </tr>\n",
              "  </thead>\n",
              "  <tbody>\n",
              "    <tr>\n",
              "      <th>0</th>\n",
              "      <td>0</td>\n",
              "      <td>766</td>\n",
              "    </tr>\n",
              "    <tr>\n",
              "      <th>1</th>\n",
              "      <td>1</td>\n",
              "      <td>766</td>\n",
              "    </tr>\n",
              "  </tbody>\n",
              "</table>\n",
              "</div>"
            ],
            "text/plain": [
              "   Label  Count\n",
              "0      0    766\n",
              "1      1    766"
            ]
          },
          "metadata": {
            "tags": []
          },
          "execution_count": 39
        }
      ]
    },
    {
      "cell_type": "markdown",
      "metadata": {
        "id": "RAI6XXTQoImQ"
      },
      "source": [
        "Berdasarkan tabel di atas, DataFrame dataset_df_new_under sudah tidak mengalami masalah _Imbalance Class_ sehingga dapat digabungkan dengan DataFrame dataset_df"
      ]
    },
    {
      "cell_type": "code",
      "metadata": {
        "id": "sNNTGgnlGbu_",
        "colab": {
          "base_uri": "https://localhost:8080/",
          "height": 363
        },
        "outputId": "6ea0c21c-b54e-40e2-bece-0c290162f3be"
      },
      "source": [
        "dataset_full = dataset_df.append(dataset_df_new_under)\n",
        "dataset_full.sample(10)"
      ],
      "execution_count": null,
      "outputs": [
        {
          "output_type": "execute_result",
          "data": {
            "text/html": [
              "<div>\n",
              "<style scoped>\n",
              "    .dataframe tbody tr th:only-of-type {\n",
              "        vertical-align: middle;\n",
              "    }\n",
              "\n",
              "    .dataframe tbody tr th {\n",
              "        vertical-align: top;\n",
              "    }\n",
              "\n",
              "    .dataframe thead th {\n",
              "        text-align: right;\n",
              "    }\n",
              "</style>\n",
              "<table border=\"1\" class=\"dataframe\">\n",
              "  <thead>\n",
              "    <tr style=\"text-align: right;\">\n",
              "      <th></th>\n",
              "      <th>Judul</th>\n",
              "      <th>Label</th>\n",
              "    </tr>\n",
              "  </thead>\n",
              "  <tbody>\n",
              "    <tr>\n",
              "      <th>1136</th>\n",
              "      <td>Pedagang Aset</td>\n",
              "      <td>1</td>\n",
              "    </tr>\n",
              "    <tr>\n",
              "      <th>1051</th>\n",
              "      <td>Foto Panwaslu Malaysia Yaza Azzahra Berpose Du...</td>\n",
              "      <td>1</td>\n",
              "    </tr>\n",
              "    <tr>\n",
              "      <th>196</th>\n",
              "      <td>ANGGOTANYA DITUDING SEBAGAI PENGANIAYA TAHANAN...</td>\n",
              "      <td>0</td>\n",
              "    </tr>\n",
              "    <tr>\n",
              "      <th>243</th>\n",
              "      <td>“atas nama: DHEVA SUPRAYOGA”</td>\n",
              "      <td>HOAX</td>\n",
              "    </tr>\n",
              "    <tr>\n",
              "      <th>484</th>\n",
              "      <td>Penjelasan Terkait Berita Muslim Cyber Army ya...</td>\n",
              "      <td>0</td>\n",
              "    </tr>\n",
              "    <tr>\n",
              "      <th>218</th>\n",
              "      <td>Rekaman Suara Yang Mencatut Gatot Nurmantyo Te...</td>\n",
              "      <td>HOAX</td>\n",
              "    </tr>\n",
              "    <tr>\n",
              "      <th>470</th>\n",
              "      <td>Foto Prabowo dan Titiek Soeharto</td>\n",
              "      <td>BENAR</td>\n",
              "    </tr>\n",
              "    <tr>\n",
              "      <th>344</th>\n",
              "      <td>LIPI Ungkap Teori Virus Corona Covid-19 Bukan ...</td>\n",
              "      <td>0</td>\n",
              "    </tr>\n",
              "    <tr>\n",
              "      <th>822</th>\n",
              "      <td>Shoflens Kadang Dipasang Kiri, Kadang Dikanan</td>\n",
              "      <td>1</td>\n",
              "    </tr>\n",
              "    <tr>\n",
              "      <th>856</th>\n",
              "      <td>: Klaim Azzam Mujahid Izzulhaq : Masing-masing...</td>\n",
              "      <td>1</td>\n",
              "    </tr>\n",
              "  </tbody>\n",
              "</table>\n",
              "</div>"
            ],
            "text/plain": [
              "                                                  Judul  Label\n",
              "1136                                      Pedagang Aset      1\n",
              "1051  Foto Panwaslu Malaysia Yaza Azzahra Berpose Du...      1\n",
              "196   ANGGOTANYA DITUDING SEBAGAI PENGANIAYA TAHANAN...      0\n",
              "243                       “atas nama: DHEVA SUPRAYOGA”    HOAX\n",
              "484   Penjelasan Terkait Berita Muslim Cyber Army ya...      0\n",
              "218   Rekaman Suara Yang Mencatut Gatot Nurmantyo Te...   HOAX\n",
              "470                    Foto Prabowo dan Titiek Soeharto  BENAR\n",
              "344   LIPI Ungkap Teori Virus Corona Covid-19 Bukan ...      0\n",
              "822       Shoflens Kadang Dipasang Kiri, Kadang Dikanan      1\n",
              "856   : Klaim Azzam Mujahid Izzulhaq : Masing-masing...      1"
            ]
          },
          "metadata": {
            "tags": []
          },
          "execution_count": 40
        }
      ]
    },
    {
      "cell_type": "markdown",
      "metadata": {
        "id": "20TqX8mZo4w5"
      },
      "source": [
        "Mendapatkan ukuran data DataFrame final (dataset_full)."
      ]
    },
    {
      "cell_type": "code",
      "metadata": {
        "colab": {
          "base_uri": "https://localhost:8080/"
        },
        "id": "RuIfhl2pHOz9",
        "outputId": "814ccf10-2754-4cbc-d3d8-0e2ba97c5c74"
      },
      "source": [
        "dataset_full.shape"
      ],
      "execution_count": null,
      "outputs": [
        {
          "output_type": "execute_result",
          "data": {
            "text/plain": [
              "(2366, 2)"
            ]
          },
          "metadata": {
            "tags": []
          },
          "execution_count": 41
        }
      ]
    },
    {
      "cell_type": "markdown",
      "metadata": {
        "id": "sZ1JWbbdpGIE"
      },
      "source": [
        "Menyimpan DataFrame dataset_full ke dalam bentuk csv untuk selanjutnya masuk ke dalam tahap preprocessing."
      ]
    },
    {
      "cell_type": "code",
      "metadata": {
        "id": "4CvJCyGjpPuE"
      },
      "source": [
        "dataset_full.to_csv('verify_dataset.csv', index=False)"
      ],
      "execution_count": null,
      "outputs": []
    }
  ]
}